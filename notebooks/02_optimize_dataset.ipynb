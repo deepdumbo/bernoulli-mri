{
 "cells": [
  {
   "cell_type": "code",
   "execution_count": 36,
   "outputs": [
    {
     "name": "stdout",
     "output_type": "stream",
     "text": [
      "The autoreload extension is already loaded. To reload it, use:\n",
      "  %reload_ext autoreload\n"
     ]
    }
   ],
   "source": [
    "%load_ext autoreload\n",
    "%autoreload 2\n",
    "\n",
    "import os\n",
    "\n",
    "os.chdir('/home/tobias/Projects/bernoulli-mri')"
   ],
   "metadata": {
    "collapsed": false
   }
  },
  {
   "cell_type": "code",
   "execution_count": 37,
   "metadata": {
    "collapsed": true
   },
   "outputs": [],
   "source": [
    "from abc import ABC, abstractmethod\n",
    "from typing import Tuple\n",
    "\n",
    "import matplotlib.pyplot as plt\n",
    "from torch.optim import Adam\n",
    "from tqdm import tqdm\n",
    "import torch\n",
    "from torch import Tensor, nn\n",
    "from torchvision.transforms.functional import center_crop\n",
    "from torchvision.utils import save_image\n",
    "\n",
    "from src.config import get_configuration\n",
    "from src.constraint import ScoreConstrainer\n",
    "from src.dense_rate import DenseRateScheduler\n",
    "from src.optimization import get_mask_handler\n",
    "from src.distribution import SoftBernoulliSampler\n",
    "from src.utils import (\n",
    "    load_h5_slice,\n",
    "    get_temperature,\n",
    "    ifft2c,\n",
    "    fft2c,\n",
    "    plot_heatmap,\n",
    "    min_max_normalize,\n",
    ")\n",
    "from src.datasets import ACDCDataset"
   ]
  },
  {
   "cell_type": "code",
   "execution_count": 38,
   "outputs": [],
   "source": [
    "BASE_CONFIG = {\n",
    "    'file_path': 'data/ACDC',\n",
    "    'slice_idx': 17,\n",
    "    'coil_idx': None,\n",
    "    'cropping': (320, 320),\n",
    "    'steps': 5000,\n",
    "    'learning_rate': 1e-2,\n",
    "    'bern_samples': 4,\n",
    "    'mask_style': 'f',\n",
    "    'dense_target': 1 / 8,\n",
    "    'dense_start': 0.10,\n",
    "    'dense_end': 0.85,\n",
    "    'device': torch.device('cuda' if torch.cuda.is_available() else 'cpu'),\n",
    "    'log_dir': 'logs/acdc',\n",
    "    'log_imgs': 10,\n",
    "}\n",
    "\n",
    "cfg = get_configuration(BASE_CONFIG)"
   ],
   "metadata": {
    "collapsed": false
   }
  },
  {
   "cell_type": "code",
   "execution_count": 39,
   "outputs": [],
   "source": [
    "#loss_func = nn.MSELoss()\n",
    "loss_func = nn.MSELoss(reduction='none')"
   ],
   "metadata": {
    "collapsed": false
   }
  },
  {
   "cell_type": "code",
   "execution_count": 40,
   "outputs": [],
   "source": [
    "dense_scheduler = DenseRateScheduler(\n",
    "            target=cfg.dense_target,\n",
    "            start_epoch=int(cfg.dense_start * cfg.steps),\n",
    "            stop_epoch=int(cfg.dense_end * cfg.steps),\n",
    "        )"
   ],
   "metadata": {
    "collapsed": false
   }
  },
  {
   "cell_type": "code",
   "execution_count": 41,
   "outputs": [],
   "source": [
    "acdc = ACDCDataset(cfg.file_path, train=True)\n",
    "\n",
    "sample = acdc[42]\n",
    "img = sample['img']\n",
    "img_k = sample['k_space']\n",
    "\n",
    "seg_weight = 50\n",
    "seg = sample['seg']\n",
    "seg[seg != 0] = seg_weight\n",
    "seg[seg == 0] = 1"
   ],
   "metadata": {
    "collapsed": false
   }
  },
  {
   "cell_type": "code",
   "execution_count": 42,
   "outputs": [
    {
     "name": "stderr",
     "output_type": "stream",
     "text": [
      "L: 2.08E-02 | D: 0.125: 100%|██████████| 5000/5000 [01:27<00:00, 56.86it/s]\n"
     ]
    },
    {
     "data": {
      "text/plain": "<Figure size 640x480 with 1 Axes>",
      "image/png": "[encoded data removed]"
     },
     "metadata": {},
     "output_type": "display_data"
    }
   ],
   "source": [
    "img = img.unsqueeze(0)\n",
    "img_k = img_k.unsqueeze(0)\n",
    "\n",
    "img_low_q = torch.quantile(img, 0.01)\n",
    "img_high_q = torch.quantile(img, 0.99)\n",
    "\n",
    "# Create mask handler that also contains scores\n",
    "mask_handler = get_mask_handler(\n",
    "    name=cfg.mask_style,\n",
    "    height=img.shape[-2],\n",
    "    width=img.shape[-1],\n",
    "    device=cfg.device,\n",
    ")\n",
    "\n",
    "# Initialize optimizer with mask scores\n",
    "optimizer = Adam([mask_handler.get_scores()], lr=cfg.learning_rate)\n",
    "\n",
    "# Create constrainer for projection of scores to dense_rate\n",
    "constrainer = ScoreConstrainer(mask_handler.get_scores())\n",
    "\n",
    "log_recs = []\n",
    "log_masks = []\n",
    "\n",
    "for step in (pbar := tqdm(range(1, cfg.steps + 1))):\n",
    "\n",
    "    # Get temperature for categorical \"softness\"\n",
    "    temperature = get_temperature(step, cfg.steps)\n",
    "\n",
    "    # Map scores to valid probability space\n",
    "    dense_rate = dense_scheduler.get_dense_rate()\n",
    "    constrainer.constrain(dense_rate=dense_rate)\n",
    "    dense_scheduler.advance()\n",
    "\n",
    "    # Sample from distribution\n",
    "    mask = mask_handler.sample_mask(\n",
    "        temperature=temperature, num_samples=cfg.bern_samples\n",
    "    )\n",
    "\n",
    "    # Compute image with mask\n",
    "    img_pred = ifft2c(img_k * mask + 0.0)\n",
    "    img_mag = torch.abs(img_pred)\n",
    "\n",
    "    # Compute loss between full and undersampled image\n",
    "    img_batch = img.expand(cfg.bern_samples, -1, -1, -1)\n",
    "    loss = loss_func(img_mag, img_batch)\n",
    "\n",
    "    loss *= seg\n",
    "    loss = torch.mean(loss)\n",
    "\n",
    "    # Optimize scores\n",
    "    optimizer.zero_grad()\n",
    "    loss.backward()\n",
    "    optimizer.step()\n",
    "\n",
    "    if step % 20 == 0:\n",
    "        pbar.set_description(\n",
    "            'L: {:.2E} | D: {:.3f}'.format(\n",
    "                float(loss), float(torch.mean(mask_handler.get_scores()))\n",
    "            )\n",
    "        )\n",
    "\n",
    "    num_imgs = cfg.log_imgs\n",
    "    if num_imgs > 0 and step % (cfg.steps // num_imgs) == 0:\n",
    "        img_rec = torch.abs(img_pred[0])\n",
    "        img_rec = min_max_normalize(img_rec, img_low_q, img_high_q)\n",
    "\n",
    "        log_recs.append(img_rec.detach().cpu())\n",
    "        log_masks.append(mask[0].detach().cpu())\n",
    "\n",
    "# ------------------------------------------------------------------------------\n",
    "\n",
    "# Construct training progress grid\n",
    "os.makedirs(cfg.log_dir, exist_ok=True)\n",
    "img_org = min_max_normalize(img, img_low_q, img_high_q)\n",
    "log_recs.append(img_org.squeeze(0).cpu())\n",
    "log_masks.append(torch.zeros_like(img).squeeze(0).cpu())\n",
    "\n",
    "save_image(\n",
    "    log_recs + log_masks,\n",
    "    fp=cfg.log_dir + '/progress.png',\n",
    "    nrow=len(log_recs),\n",
    ")\n",
    "\n",
    "# Construct heatmap\n",
    "plot_heatmap(\n",
    "    mask_handler.get_mask_distribution(),\n",
    "    save_path=cfg.log_dir + '/heatmap.png',\n",
    ")\n",
    "\n",
    "# Construct histogram of scores\n",
    "plt.hist(mask_handler.get_scores().detach().cpu().flatten(), bins=20)\n",
    "plt.savefig(cfg.log_dir + '/histogram.png')"
   ],
   "metadata": {
    "collapsed": false
   }
  }
 ],
 "metadata": {
  "kernelspec": {
   "display_name": "Python 3",
   "language": "python",
   "name": "python3"
  },
  "language_info": {
   "codemirror_mode": {
    "name": "ipython",
    "version": 2
   },
   "file_extension": ".py",
   "mimetype": "text/x-python",
   "name": "python",
   "nbconvert_exporter": "python",
   "pygments_lexer": "ipython2",
   "version": "2.7.6"
  }
 },
 "nbformat": 4,
 "nbformat_minor": 0
}
