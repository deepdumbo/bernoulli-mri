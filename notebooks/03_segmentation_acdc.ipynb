{
 "cells": [
  {
   "cell_type": "code",
   "execution_count": 1,
   "id": "00e88148",
   "metadata": {},
   "outputs": [],
   "source": [
    "%load_ext autoreload\n",
    "%autoreload 2\n",
    "\n",
    "import os\n",
    "from typing import Optional, Tuple\n",
    "\n",
    "os.chdir('/data/core-rad/tobweber/bernoulli-mri')\n",
    "\n",
    "import torch\n",
    "from torch import Tensor\n",
    "from torch.utils.data import DataLoader\n",
    "from monai.metrics import DiceMetric, MeanIoU\n",
    "from monai.networks.nets import UNet\n",
    "from monai.networks import one_hot\n",
    "import pandas as pd\n",
    "\n",
    "from src.datasets import ACDCDataset\n",
    "from src.utils import ifft2c\n",
    "from src.utils import get_top_k_mask"
   ]
  },
  {
   "cell_type": "markdown",
   "id": "4c94ee12",
   "metadata": {},
   "source": [
    "# ACDC"
   ]
  },
  {
   "cell_type": "code",
   "execution_count": 9,
   "id": "3211b488",
   "metadata": {},
   "outputs": [
    {
     "ename": "NameError",
     "evalue": "name 'ACDCDataset' is not defined",
     "output_type": "error",
     "traceback": [
      "\u001B[0;31m---------------------------------------------------------------------------\u001B[0m",
      "\u001B[0;31mNameError\u001B[0m                                 Traceback (most recent call last)",
      "Cell \u001B[0;32mIn[9], line 1\u001B[0m\n\u001B[0;32m----> 1\u001B[0m ds \u001B[38;5;241m=\u001B[39m \u001B[43mACDCDataset\u001B[49m(\u001B[38;5;124m'\u001B[39m\u001B[38;5;124m/data/core-rad/data/ACDC\u001B[39m\u001B[38;5;124m'\u001B[39m, train\u001B[38;5;241m=\u001B[39m\u001B[38;5;28;01mFalse\u001B[39;00m)\n\u001B[1;32m      2\u001B[0m dl \u001B[38;5;241m=\u001B[39m DataLoader(ds, batch_size\u001B[38;5;241m=\u001B[39m\u001B[38;5;241m64\u001B[39m, num_workers\u001B[38;5;241m=\u001B[39m\u001B[38;5;241m8\u001B[39m)\n\u001B[1;32m      4\u001B[0m model \u001B[38;5;241m=\u001B[39m UNet(\n\u001B[1;32m      5\u001B[0m         spatial_dims\u001B[38;5;241m=\u001B[39m\u001B[38;5;241m2\u001B[39m,\n\u001B[1;32m      6\u001B[0m         in_channels\u001B[38;5;241m=\u001B[39m\u001B[38;5;241m1\u001B[39m,\n\u001B[0;32m   (...)\u001B[0m\n\u001B[1;32m     10\u001B[0m         num_res_units\u001B[38;5;241m=\u001B[39m\u001B[38;5;241m2\u001B[39m\n\u001B[1;32m     11\u001B[0m     )\u001B[38;5;241m.\u001B[39mcuda()\n",
      "\u001B[0;31mNameError\u001B[0m: name 'ACDCDataset' is not defined"
     ]
    }
   ],
   "source": [
    "ds = ACDCDataset('/data/core-rad/data/ACDC', train=False)\n",
    "dl = DataLoader(ds, batch_size=64, num_workers=8)\n",
    "\n",
    "model = UNet(\n",
    "        spatial_dims=2,\n",
    "        in_channels=1,\n",
    "        out_channels=4,\n",
    "        channels=(16, 32, 64, 128, 256),\n",
    "        strides=(2, 2, 2, 2),\n",
    "        num_res_units=2\n",
    "    ).cuda()\n",
    "\n",
    "\n",
    "sd = torch.load('models/acdc_base.pt')\n",
    "model.load_state_dict(sd['model'])\n",
    "\n",
    "model.eval()\n",
    "for p in model.parameters():\n",
    "    p.requires_grad = False\n",
    "\n",
    "result = {\n",
    "    'dataset': [],\n",
    "    'method': [],\n",
    "    'acc_fac': [],\n",
    "    'dice': [],\n",
    "    'iou': [],\n",
    "}"
   ]
  },
  {
   "cell_type": "code",
   "execution_count": null,
   "outputs": [],
   "source": [
    "def get_metrics(dl: DataLoader, model: UNet, mask: Optional[Tensor] = None) -> Tuple[float, float]:\n",
    "    dice_metric = DiceMetric(include_background=False)\n",
    "    iou_metric = MeanIoU(include_background=False)\n",
    "\n",
    "    for batch in dl:\n",
    "\n",
    "        if mask is not None:\n",
    "            img = batch['k_space'].cuda()\n",
    "            img = ifft2c(img * mask + 0.0)\n",
    "            img = torch.abs(img)\n",
    "        else:\n",
    "            img = batch['img'].cuda()\n",
    "\n",
    "        seg = batch['seg'].cuda()\n",
    "        pred = model(img)\n",
    "\n",
    "        pred = one_hot(torch.argmax(pred, dim=1).unsqueeze(1), num_classes=4)\n",
    "        seg = one_hot(seg, num_classes=4)\n",
    "\n",
    "        dice_metric(y_pred=pred, y=seg)\n",
    "        iou_metric(y_pred=pred, y=seg)\n",
    "\n",
    "    dice_res = dice_metric.aggregate()\n",
    "    iou_res = iou_metric.aggregate()\n",
    "\n",
    "    return float(dice_res.mean(dim=0).cpu()), float(iou_res.mean(dim=0).cpu())"
   ],
   "metadata": {
    "collapsed": false
   }
  },
  {
   "cell_type": "markdown",
   "id": "f9a3e912",
   "metadata": {},
   "source": [
    "## Fully Sampled"
   ]
  },
  {
   "cell_type": "code",
   "execution_count": 3,
   "id": "f1aa1f20",
   "metadata": {},
   "outputs": [
    {
     "name": "stdout",
     "output_type": "stream",
     "text": [
      "Dice Score: 0.8549136519432068\n",
      "IoU Score: 0.7632980942726135\n"
     ]
    }
   ],
   "source": [
    "dice, iou = get_metrics(dl, model)\n",
    "\n",
    "result['dataset'].append('acdc')\n",
    "result['method'].append('full')\n",
    "result['acc_fac'].append(1)\n",
    "result['dice'].append(dice)\n",
    "result['iou'].append(iou)\n",
    "\n",
    "print('Dice Score:', dice)\n",
    "print('IoU Score:', iou)"
   ]
  },
  {
   "cell_type": "markdown",
   "id": "c4928cad",
   "metadata": {},
   "source": [
    "# Equispaced"
   ]
  },
  {
   "cell_type": "code",
   "execution_count": 4,
   "id": "62a7089e",
   "metadata": {},
   "outputs": [
    {
     "name": "stdout",
     "output_type": "stream",
     "text": [
      "Acc. Factor: 8\n",
      "Dice Score: 0.665573000907898\n",
      "IoU Score: 0.5406851172447205\n",
      "Acc. Factor: 16\n",
      "Dice Score: 0.671248733997345\n",
      "IoU Score: 0.5460855960845947\n",
      "Acc. Factor: 32\n",
      "Dice Score: 0.6418558359146118\n",
      "IoU Score: 0.5142226219177246\n"
     ]
    }
   ],
   "source": [
    "from src.mask_patterns import EquiSpacedMaskFunc\n",
    "\n",
    "num_runs = 10\n",
    "acc_facs = [8, 16, 32]\n",
    "\n",
    "for _ in range(num_runs):\n",
    "    for a in acc_facs:\n",
    "        mask = EquiSpacedMaskFunc([0.04], [a])((1, 256, 256))[0].cuda()\n",
    "        mask = mask.squeeze(2).expand(256, -1)\n",
    "        mask = mask.unsqueeze(0).unsqueeze(0)\n",
    "\n",
    "        dice, iou = get_metrics(dl, model, mask)\n",
    "\n",
    "        result['dataset'].append('acdc')\n",
    "        result['method'].append('equi')\n",
    "        result['acc_fac'].append(a)\n",
    "        result['dice'].append(dice)\n",
    "        result['iou'].append(iou)"
   ]
  },
  {
   "cell_type": "markdown",
   "id": "72c0b615",
   "metadata": {},
   "source": [
    "## 2D Variable Density"
   ]
  },
  {
   "cell_type": "code",
   "execution_count": 3,
   "id": "775c1bc5",
   "metadata": {},
   "outputs": [],
   "source": [
    "from src.mask_patterns import get_2d_variable_density_mask\n",
    "\n",
    "num_runs = 10\n",
    "acc_facs = [8, 16, 32]\n",
    "\n",
    "for _ in range(num_runs):\n",
    "    for a in acc_facs:\n",
    "        mask = get_2d_variable_density_mask(256, a, 30).cuda()\n",
    "        mask = mask.unsqueeze(0).unsqueeze(0)\n",
    "\n",
    "        dice, iou = get_metrics(dl, model, mask)\n",
    "\n",
    "        result['dataset'].append('acdc')\n",
    "        result['method'].append('var_dens')\n",
    "        result['acc_fac'].append(a)\n",
    "        result['dice'].append(dice)\n",
    "        result['iou'].append(iou)"
   ]
  },
  {
   "cell_type": "markdown",
   "id": "4f980738",
   "metadata": {},
   "source": [
    "## PROM"
   ]
  },
  {
   "cell_type": "code",
   "execution_count": 10,
   "id": "4b48771e",
   "metadata": {},
   "outputs": [
    {
     "ename": "NameError",
     "evalue": "name 'prefix' is not defined",
     "output_type": "error",
     "traceback": [
      "\u001B[0;31m---------------------------------------------------------------------------\u001B[0m",
      "\u001B[0;31mNameError\u001B[0m                                 Traceback (most recent call last)",
      "Cell \u001B[0;32mIn[10], line 3\u001B[0m\n\u001B[1;32m      1\u001B[0m dims \u001B[38;5;241m=\u001B[39m [\u001B[38;5;124m'\u001B[39m\u001B[38;5;124m1d\u001B[39m\u001B[38;5;124m'\u001B[39m, ]\n\u001B[0;32m----> 3\u001B[0m new_path \u001B[38;5;241m=\u001B[39m \u001B[38;5;124mf\u001B[39m\u001B[38;5;124m'\u001B[39m\u001B[38;5;124mlogs_final/acdc_\u001B[39m\u001B[38;5;124m'\u001B[39m \u001B[38;5;241m+\u001B[39m \u001B[43mprefix\u001B[49m \u001B[38;5;241m+\u001B[39m \u001B[38;5;124mf\u001B[39m\u001B[38;5;124m'\u001B[39m\u001B[38;5;124m_a\u001B[39m\u001B[38;5;132;01m{\u001B[39;00macc_fac\u001B[38;5;132;01m}\u001B[39;00m\u001B[38;5;124m/acdc_r\u001B[39m\u001B[38;5;132;01m{\u001B[39;00mrun_idx\u001B[38;5;132;01m}\u001B[39;00m\u001B[38;5;124m.pt\u001B[39m\u001B[38;5;124m'\u001B[39m\n\u001B[1;32m      6\u001B[0m \u001B[38;5;66;03m#result_dirs = ['acdc_8_proxy', 'acdc_16_proxy', 'acdc_32_proxy']\u001B[39;00m\n\u001B[1;32m      7\u001B[0m result_dirs \u001B[38;5;241m=\u001B[39m [\u001B[38;5;124m'\u001B[39m\u001B[38;5;124macdc_ensemble_proxy_8\u001B[39m\u001B[38;5;124m'\u001B[39m, \u001B[38;5;124m'\u001B[39m\u001B[38;5;124macdc_ensemble_proxy_16\u001B[39m\u001B[38;5;124m'\u001B[39m, \u001B[38;5;124m'\u001B[39m\u001B[38;5;124macdc_ensemble_proxy_32\u001B[39m\u001B[38;5;124m'\u001B[39m]\n",
      "\u001B[0;31mNameError\u001B[0m: name 'prefix' is not defined"
     ]
    }
   ],
   "source": [
    "num_runs = 10\n",
    "dims = ['1d', '2d']\n",
    "acc_facs = [8, 16, 32]\n",
    "\n",
    "for run_idx in range(1, num_runs + 1):\n",
    "    for d in dims:\n",
    "        for a in acc_facs:\n",
    "            path = f'logs_final/acdc_' + d + f'_a{a}/acdc_r{run_idx}.pt'\n",
    "            score = torch.load(path)['scores'][-1].cuda()\n",
    "\n",
    "            mask = get_top_k_mask(score.squeeze(), a)\n",
    "\n",
    "            dice, iou = get_metrics(dl, model, mask)\n",
    "\n",
    "            result['dataset'].append('acdc')\n",
    "            result['method'].append('prom_' + d)\n",
    "            result['acc_fac'].append(a)\n",
    "            result['dice'].append(dice)\n",
    "            result['iou'].append(iou)"
   ]
  },
  {
   "cell_type": "markdown",
   "id": "79a34d60",
   "metadata": {},
   "source": [
    "# IGS Sampling"
   ]
  },
  {
   "cell_type": "code",
   "execution_count": 9,
   "id": "06c4722b",
   "metadata": {},
   "outputs": [
    {
     "name": "stdout",
     "output_type": "stream",
     "text": [
      "Acc. Factor: 8\n",
      "Dice Score: 0.8276612758636475\n",
      "IoU Score: 0.7264233827590942\n",
      "Acc. Factor: 16\n",
      "Dice Score: 0.7434073090553284\n",
      "IoU Score: 0.6251413822174072\n",
      "Acc. Factor: 32\n",
      "Dice Score: 0.5987941026687622\n",
      "IoU Score: 0.47245970368385315\n"
     ]
    }
   ],
   "source": [
    "from src.igs import IGS\n",
    "\n",
    "num_runs = 10\n",
    "acc_facs = [8, 16, 32]\n",
    "\n",
    "for run_idx in range(1, num_runs + 1):\n",
    "    masks = torch.load(f'logs_final/IGS/igs_acdc_seg_{run_idx}.pt').cuda()\n",
    "    ns = [IGS.get_n(acc_fac=a, img_size=256) for a in acc_facs]\n",
    "\n",
    "    for n, a in zip(ns, acc_facs):\n",
    "        mask = masks[n - 2].unsqueeze(0)\n",
    "        mask = mask.expand(256, -1)\n",
    "        mask = mask.unsqueeze(0).unsqueeze(0)\n",
    "\n",
    "        dice, iou = get_metrics(dl, model, mask)\n",
    "\n",
    "        result['dataset'].append('acdc')\n",
    "        result['method'].append('igs')\n",
    "        result['acc_fac'].append(a)\n",
    "        result['dice'].append(dice)\n",
    "        result['iou'].append(iou)\n",
    "    "
   ]
  },
  {
   "cell_type": "code",
   "execution_count": 10,
   "id": "85ce952e",
   "metadata": {},
   "outputs": [
    {
     "data": {
      "text/plain": [
       "{'full': (0.8549136519432068, 0.7632980942726135),\n",
       " 'equi_8': (0.665573000907898, 0.5406851172447205),\n",
       " 'equi_16': (0.671248733997345, 0.5460855960845947),\n",
       " 'equi_32': (0.6418558359146118, 0.5142226219177246),\n",
       " 'var_dens_8': (0.3991642892360687, 0.2990240454673767),\n",
       " 'var_dens_16': (0.37987008690834045, 0.28197941184043884),\n",
       " 'var_dens_32': (0.12038853019475937, 0.07972479611635208),\n",
       " 'acdc_ensemble_proxy_8': (0.8379948139190674, 0.7407156825065613),\n",
       " 'acdc_ensemble_proxy_16': (0.786157488822937, 0.6751657128334045),\n",
       " 'acdc_ensemble_proxy_32': (0.7242296934127808, 0.6035035252571106),\n",
       " 'acdc_ensemble_proxy_1d_8': (0.8133999705314636, 0.7085737586021423),\n",
       " 'acdc_ensemble_proxy_1d_16': (0.7340726256370544, 0.6145088076591492),\n",
       " 'acdc_ensemble_proxy_1d_32': (0.5987941026687622, 0.47245970368385315),\n",
       " 'igs_proxy8': (0.8276612758636475, 0.7264233827590942),\n",
       " 'igs_proxy16': (0.7434073090553284, 0.6251413822174072),\n",
       " 'igs_proxy32': (0.5987941026687622, 0.47245970368385315)}"
      ]
     },
     "execution_count": 10,
     "metadata": {},
     "output_type": "execute_result"
    }
   ],
   "source": [
    "df = pd.DataFrame.from_dict(result)\n",
    "\n",
    "df"
   ]
  }
 ],
 "metadata": {
  "kernelspec": {
   "display_name": "Python 3 (ipykernel)",
   "language": "python",
   "name": "python3"
  },
  "language_info": {
   "codemirror_mode": {
    "name": "ipython",
    "version": 3
   },
   "file_extension": ".py",
   "mimetype": "text/x-python",
   "name": "python",
   "nbconvert_exporter": "python",
   "pygments_lexer": "ipython3",
   "version": "3.8.13"
  }
 },
 "nbformat": 4,
 "nbformat_minor": 5
}
