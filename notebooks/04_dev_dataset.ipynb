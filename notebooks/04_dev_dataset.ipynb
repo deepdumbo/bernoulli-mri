{
 "cells": [
  {
   "cell_type": "code",
   "execution_count": 1,
   "id": "808a6b78-6116-4c02-ade6-78a9347a7ddc",
   "metadata": {
    "jupyter": {
     "outputs_hidden": false
    }
   },
   "outputs": [],
   "source": [
    "%load_ext autoreload\n",
    "%autoreload 2\n",
    "\n",
    "import os\n",
    "\n",
    "os.chdir('/home/tobias/projects/bernoulli-mri')"
   ]
  },
  {
   "cell_type": "code",
   "execution_count": 6,
   "id": "7444477f",
   "metadata": {},
   "outputs": [
    {
     "data": {
      "text/plain": [
       "{'img': tensor([[[0.0019, 0.0052, 0.0043,  ..., 0.0112, 0.0086, 0.0102],\n",
       "          [0.0030, 0.0077, 0.0112,  ..., 0.0107, 0.0061, 0.0044],\n",
       "          [0.0050, 0.0077, 0.0055,  ..., 0.0050, 0.0052, 0.0003],\n",
       "          ...,\n",
       "          [0.1479, 0.1652, 0.1838,  ..., 0.0131, 0.0078, 0.0033],\n",
       "          [0.1678, 0.1605, 0.1710,  ..., 0.0078, 0.0014, 0.0061],\n",
       "          [0.1732, 0.1659, 0.1576,  ..., 0.0070, 0.0075, 0.0048]]]),\n",
       " 'seg': tensor([[[0., 0., 0.,  ..., 0., 0., 0.],\n",
       "          [0., 0., 0.,  ..., 0., 0., 0.],\n",
       "          [0., 0., 0.,  ..., 0., 0., 0.],\n",
       "          ...,\n",
       "          [0., 0., 0.,  ..., 0., 0., 0.],\n",
       "          [0., 0., 0.,  ..., 0., 0., 0.],\n",
       "          [0., 0., 0.,  ..., 0., 0., 0.]]]),\n",
       " 'k_space': tensor([[[-5.8647e-06+2.5011e-12j,  2.2250e-06+7.4775e-07j,\n",
       "           -1.9887e-06+1.0262e-06j,  ...,\n",
       "            4.0495e-06-2.7694e-06j, -1.9887e-06-1.0262e-06j,\n",
       "            2.2250e-06-7.4775e-07j],\n",
       "          [-2.7384e-06+1.9460e-06j, -3.0403e-07-2.3018e-06j,\n",
       "           -2.0896e-06+1.2244e-06j,  ...,\n",
       "            2.8887e-06-1.8875e-06j, -2.8778e-07+2.4677e-06j,\n",
       "            5.5582e-07-1.3417e-06j],\n",
       "          [ 7.7502e-08-1.5555e-06j,  1.6278e-06+1.1965e-06j,\n",
       "           -4.4059e-07+1.4966e-06j,  ...,\n",
       "            1.3050e-06+8.1959e-07j,  9.5412e-07-1.6818e-06j,\n",
       "            9.2553e-07+1.4050e-06j],\n",
       "          ...,\n",
       "          [ 2.5088e-06+8.2227e-09j, -3.5479e-06-2.6818e-07j,\n",
       "            3.5039e-06+3.5077e-07j,  ...,\n",
       "           -4.3573e-06-2.5782e-06j,  1.4865e-06+1.7426e-07j,\n",
       "           -2.7554e-06-6.3916e-07j],\n",
       "          [ 7.7502e-08+1.5555e-06j,  9.2552e-07-1.4050e-06j,\n",
       "            9.5412e-07+1.6818e-06j,  ...,\n",
       "           -1.6753e-06-1.8568e-06j, -4.4060e-07-1.4966e-06j,\n",
       "            1.6278e-06-1.1965e-06j],\n",
       "          [-2.7384e-06-1.9460e-06j,  5.5582e-07+1.3417e-06j,\n",
       "           -2.8779e-07-2.4677e-06j,  ...,\n",
       "           -7.5901e-07+2.9392e-06j, -2.0896e-06-1.2244e-06j,\n",
       "           -3.0403e-07+2.3018e-06j]]])}"
      ]
     },
     "execution_count": 6,
     "metadata": {},
     "output_type": "execute_result"
    }
   ],
   "source": [
    "from src.datasets import KneeDataset\n",
    "\n",
    "ds = KneeDataset('/data/knee_fastmri', train=True)\n",
    "\n",
    "ds[0]"
   ]
  }
 ],
 "metadata": {
  "kernelspec": {
   "display_name": "Python 3 (ipykernel)",
   "language": "python",
   "name": "python3"
  },
  "language_info": {
   "codemirror_mode": {
    "name": "ipython",
    "version": 3
   },
   "file_extension": ".py",
   "mimetype": "text/x-python",
   "name": "python",
   "nbconvert_exporter": "python",
   "pygments_lexer": "ipython3",
   "version": "3.10.6"
  }
 },
 "nbformat": 4,
 "nbformat_minor": 5
}
