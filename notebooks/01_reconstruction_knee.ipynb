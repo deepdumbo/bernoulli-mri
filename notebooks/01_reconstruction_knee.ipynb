{
 "cells": [
  {
   "cell_type": "code",
   "execution_count": 11,
   "id": "00e88148",
   "metadata": {},
   "outputs": [
    {
     "name": "stdout",
     "output_type": "stream",
     "text": [
      "The autoreload extension is already loaded. To reload it, use:\n",
      "  %reload_ext autoreload\n"
     ]
    }
   ],
   "source": [
    "%load_ext autoreload\n",
    "%autoreload 2\n",
    "\n",
    "import os\n",
    "\n",
    "os.chdir('/data/core-rad/tobweber/bernoulli-mri')\n",
    "\n",
    "from typing import Tuple\n",
    "import torch\n",
    "from torch import Tensor\n",
    "from torch.utils.data import DataLoader\n",
    "import matplotlib.pyplot as plt\n",
    "from src.utils import ifft2c, get_top_k_mask\n",
    "from src.datasets import KneeDataset\n",
    "from src.evaluation import MetricAgent\n",
    "from tqdm import tqdm\n",
    "import pandas as pd"
   ]
  },
  {
   "cell_type": "markdown",
   "id": "760c68cd",
   "metadata": {},
   "source": [
    "### Initialize Metric Agent"
   ]
  },
  {
   "cell_type": "code",
   "execution_count": 2,
   "id": "ada9765d",
   "metadata": {},
   "outputs": [],
   "source": [
    "metric_agent = MetricAgent()\n",
    "\n",
    "result = {\n",
    "    'dataset': [],\n",
    "    'method': [],\n",
    "    'acc_fac': [],\n",
    "    'psnr': [],\n",
    "    'ssim': [],\n",
    "    'nmse': []\n",
    "}"
   ]
  },
  {
   "cell_type": "code",
   "execution_count": 3,
   "id": "300759b3",
   "metadata": {},
   "outputs": [],
   "source": [
    "def get_metrics(dl: DataLoader, mask: Tensor) -> Tuple[float, float, float]:\n",
    "    for batch in tqdm(dl, leave=False):\n",
    "        img_k = batch['k_space'].cuda()\n",
    "        img = batch['img'].cuda()\n",
    "\n",
    "        img_pred = ifft2c(img_k * mask + 0.0)\n",
    "        img_mag = torch.abs(img_pred)\n",
    "\n",
    "        metric_agent(img_mag, img)\n",
    "\n",
    "    m = metric_agent.aggregate()\n",
    "\n",
    "    return m['PSNR'], m['SSIM'], m['NMSE']"
   ]
  },
  {
   "cell_type": "markdown",
   "id": "04ac4177",
   "metadata": {},
   "source": [
    "# KNEE DATASET"
   ]
  },
  {
   "cell_type": "code",
   "execution_count": 4,
   "id": "7eaf261c",
   "metadata": {},
   "outputs": [],
   "source": [
    "ds = KneeDataset('/data/core-rad/data/knee_fastmri', train=False)\n",
    "dl = DataLoader(ds, batch_size=64, num_workers=24)"
   ]
  },
  {
   "cell_type": "markdown",
   "id": "060a596f",
   "metadata": {},
   "source": [
    "## Equispaced"
   ]
  },
  {
   "cell_type": "code",
   "execution_count": 5,
   "id": "36f241a5",
   "metadata": {},
   "outputs": [
    {
     "name": "stderr",
     "output_type": "stream",
     "text": [
      "                                                                                           \r"
     ]
    }
   ],
   "source": [
    "from src.mask_patterns import EquiSpacedMaskFunc\n",
    "\n",
    "num_runs = 10\n",
    "acc_facs = [4, 8, 16, 32]\n",
    "\n",
    "for _ in range(num_runs):\n",
    "    for a in acc_facs:\n",
    "        mask = EquiSpacedMaskFunc([0.04], [a])((1, 320, 320))[0].cuda()\n",
    "        mask = mask.squeeze(2).expand(320, -1)\n",
    "        mask = mask.unsqueeze(0).unsqueeze(0)\n",
    "\n",
    "        psnr, ssim, nmse = get_metrics(dl, mask)\n",
    "\n",
    "        result['dataset'].append('knee')\n",
    "        result['method'].append('equi')\n",
    "        result['acc_fac'].append(a)\n",
    "        result['psnr'].append(psnr)\n",
    "        result['ssim'].append(ssim)\n",
    "        result['nmse'].append(nmse)\n"
   ]
  },
  {
   "cell_type": "markdown",
   "id": "ae7333d8",
   "metadata": {},
   "source": [
    "## 2D Variable Density"
   ]
  },
  {
   "cell_type": "code",
   "execution_count": 6,
   "id": "cfda1f8e",
   "metadata": {},
   "outputs": [
    {
     "name": "stderr",
     "output_type": "stream",
     "text": [
      "                                                                                           \r"
     ]
    }
   ],
   "source": [
    "from src.mask_patterns import get_2d_variable_density_mask\n",
    "\n",
    "num_runs = 10\n",
    "acc_facs = [4, 8, 16, 32]\n",
    "\n",
    "for _ in range(num_runs):\n",
    "    for a in acc_facs:\n",
    "        mask = get_2d_variable_density_mask(320, a, 30).cuda()\n",
    "        mask = mask.unsqueeze(0).unsqueeze(0)\n",
    "\n",
    "        psnr, ssim, nmse = get_metrics(dl, mask)\n",
    "\n",
    "        result['dataset'].append('knee')\n",
    "        result['method'].append('var_dens')\n",
    "        result['acc_fac'].append(a)\n",
    "        result['psnr'].append(psnr)\n",
    "        result['ssim'].append(ssim)\n",
    "        result['nmse'].append(nmse)"
   ]
  },
  {
   "cell_type": "markdown",
   "id": "7fe108ca",
   "metadata": {},
   "source": [
    "## PROM"
   ]
  },
  {
   "cell_type": "code",
   "execution_count": 7,
   "id": "66df5858",
   "metadata": {},
   "outputs": [
    {
     "name": "stderr",
     "output_type": "stream",
     "text": [
      "                                                                                           \r"
     ]
    }
   ],
   "source": [
    "num_runs = 10\n",
    "acc_facs = [4, 8, 16, 32]\n",
    "\n",
    "for run_idx in range(1, num_runs + 1):\n",
    "    for a in acc_facs:\n",
    "        path = f'logs/knee_2d_a{a}/knee_r{run_idx}.pt'\n",
    "        score = torch.load(path)['scores'][-1].cuda()\n",
    "\n",
    "        mask = get_top_k_mask(score.squeeze(), a)\n",
    "\n",
    "        psnr, ssim, nmse = get_metrics(dl, mask)\n",
    "\n",
    "        result['dataset'].append('knee')\n",
    "        result['method'].append('prom')\n",
    "        result['acc_fac'].append(a)\n",
    "        result['psnr'].append(psnr)\n",
    "        result['ssim'].append(ssim)\n",
    "        result['nmse'].append(nmse)"
   ]
  },
  {
   "cell_type": "markdown",
   "id": "1e7e26e8",
   "metadata": {},
   "source": [
    "## IGS Sampling"
   ]
  },
  {
   "cell_type": "code",
   "execution_count": 9,
   "id": "0d5aa41f",
   "metadata": {},
   "outputs": [
    {
     "name": "stderr",
     "output_type": "stream",
     "text": [
      "                                                                                           \r"
     ]
    }
   ],
   "source": [
    "from src.igs import IGS\n",
    "\n",
    "num_runs = 10\n",
    "acc_facs = [4, 8, 16, 32]\n",
    "\n",
    "for run_idx in range(1, num_runs + 1):\n",
    "    masks = torch.load(f'logs/IGS/igs_knee_{run_idx}.pt').cuda()\n",
    "    ns = [IGS.get_n(acc_fac=a, img_size=320) for a in acc_facs]\n",
    "\n",
    "    for n, a in zip(ns, acc_facs):\n",
    "        mask = masks[n - 2].unsqueeze(0)\n",
    "        mask = mask.expand(320, -1)\n",
    "        mask = mask.unsqueeze(0).unsqueeze(0)\n",
    "\n",
    "        psnr, ssim, nmse = get_metrics(dl, mask)\n",
    "\n",
    "        result['dataset'].append('knee')\n",
    "        result['method'].append('igs')\n",
    "        result['acc_fac'].append(a)\n",
    "        result['psnr'].append(psnr)\n",
    "        result['ssim'].append(ssim)\n",
    "        result['nmse'].append(nmse)"
   ]
  },
  {
   "cell_type": "code",
   "execution_count": 12,
   "id": "8edf16c0",
   "metadata": {},
   "outputs": [],
   "source": [
    "df = pd.DataFrame.from_dict(result)\n",
    "\n",
    "df.head()\n",
    "\n",
    "df.to_csv('logs/knee.csv')"
   ]
  },
  {
   "cell_type": "code",
   "execution_count": 13,
   "id": "fd74f954",
   "metadata": {},
   "outputs": [
    {
     "name": "stdout",
     "output_type": "stream",
     "text": [
      "GROUP: ('equi', 4)\n",
      "PSNR MEAN 24.481 | SD 0.518\n",
      "SSIM MEAN 0.601 | SD 0.030\n",
      "NMSE MEAN 0.066 | SD 0.008\n",
      "------------------------------------\n",
      "GROUP: ('equi', 8)\n",
      "PSNR MEAN 23.803 | SD 0.226\n",
      "SSIM MEAN 0.524 | SD 0.012\n",
      "NMSE MEAN 0.077 | SD 0.004\n",
      "------------------------------------\n",
      "GROUP: ('equi', 16)\n",
      "PSNR MEAN 23.365 | SD 0.130\n",
      "SSIM MEAN 0.474 | SD 0.004\n",
      "NMSE MEAN 0.085 | SD 0.002\n",
      "------------------------------------\n",
      "GROUP: ('equi', 32)\n",
      "PSNR MEAN 23.158 | SD 0.126\n",
      "SSIM MEAN 0.448 | SD 0.004\n",
      "NMSE MEAN 0.090 | SD 0.002\n",
      "------------------------------------\n",
      "GROUP: ('igs', 4)\n",
      "PSNR MEAN 28.553 | SD 0.000\n",
      "SSIM MEAN 0.645 | SD 0.000\n",
      "NMSE MEAN 0.031 | SD 0.000\n",
      "------------------------------------\n",
      "GROUP: ('igs', 8)\n",
      "PSNR MEAN 26.428 | SD 0.000\n",
      "SSIM MEAN 0.532 | SD 0.000\n",
      "NMSE MEAN 0.047 | SD 0.000\n",
      "------------------------------------\n",
      "GROUP: ('igs', 16)\n",
      "PSNR MEAN 24.376 | SD 0.000\n",
      "SSIM MEAN 0.458 | SD 0.000\n",
      "NMSE MEAN 0.070 | SD 0.000\n",
      "------------------------------------\n",
      "GROUP: ('igs', 32)\n",
      "PSNR MEAN 22.314 | SD 0.000\n",
      "SSIM MEAN 0.409 | SD 0.000\n",
      "NMSE MEAN 0.108 | SD 0.000\n",
      "------------------------------------\n",
      "GROUP: ('prom', 4)\n",
      "PSNR MEAN 29.787 | SD 0.002\n",
      "SSIM MEAN 0.672 | SD 0.000\n",
      "NMSE MEAN 0.026 | SD 0.000\n",
      "------------------------------------\n",
      "GROUP: ('prom', 8)\n",
      "PSNR MEAN 28.472 | SD 0.001\n",
      "SSIM MEAN 0.570 | SD 0.000\n",
      "NMSE MEAN 0.034 | SD 0.000\n",
      "------------------------------------\n",
      "GROUP: ('prom', 16)\n",
      "PSNR MEAN 27.575 | SD 0.002\n",
      "SSIM MEAN 0.511 | SD 0.000\n",
      "NMSE MEAN 0.040 | SD 0.000\n",
      "------------------------------------\n",
      "GROUP: ('prom', 32)\n",
      "PSNR MEAN 26.739 | SD 0.016\n",
      "SSIM MEAN 0.473 | SD 0.000\n",
      "NMSE MEAN 0.046 | SD 0.000\n",
      "------------------------------------\n",
      "GROUP: ('var_dens', 4)\n",
      "PSNR MEAN 29.570 | SD 0.003\n",
      "SSIM MEAN 0.664 | SD 0.000\n",
      "NMSE MEAN 0.027 | SD 0.000\n",
      "------------------------------------\n",
      "GROUP: ('var_dens', 8)\n",
      "PSNR MEAN 28.118 | SD 0.101\n",
      "SSIM MEAN 0.560 | SD 0.001\n",
      "NMSE MEAN 0.035 | SD 0.000\n",
      "------------------------------------\n",
      "GROUP: ('var_dens', 16)\n",
      "PSNR MEAN 23.342 | SD 2.694\n",
      "SSIM MEAN 0.440 | SD 0.072\n",
      "NMSE MEAN 0.112 | SD 0.127\n",
      "------------------------------------\n",
      "GROUP: ('var_dens', 32)\n",
      "PSNR MEAN 17.373 | SD 3.097\n",
      "SSIM MEAN 0.299 | SD 0.082\n",
      "NMSE MEAN 0.396 | SD 0.216\n",
      "------------------------------------\n"
     ]
    }
   ],
   "source": [
    "for group_name, df_group in df.groupby(['method', 'acc_fac']):\n",
    "        \n",
    "    print('GROUP:', group_name)\n",
    "    print('PSNR MEAN {:.3f} | SD {:.3f}'.format(df_group['psnr'].mean(), df_group['psnr'].std()))\n",
    "    print('SSIM MEAN {:.3f} | SD {:.3f}'.format(df_group['ssim'].mean(), df_group['ssim'].std()))\n",
    "    print('NMSE MEAN {:.3f} | SD {:.3f}'.format(df_group['nmse'].mean(), df_group['nmse'].std()))\n",
    "    print('------------------------------------')"
   ]
  }
 ],
 "metadata": {
  "kernelspec": {
   "display_name": "Python 3 (ipykernel)",
   "language": "python",
   "name": "python3"
  },
  "language_info": {
   "codemirror_mode": {
    "name": "ipython",
    "version": 3
   },
   "file_extension": ".py",
   "mimetype": "text/x-python",
   "name": "python",
   "nbconvert_exporter": "python",
   "pygments_lexer": "ipython3",
   "version": "3.8.13"
  }
 },
 "nbformat": 4,
 "nbformat_minor": 5
}
