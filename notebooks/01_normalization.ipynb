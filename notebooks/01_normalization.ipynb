{
 "cells": [
  {
   "cell_type": "code",
   "execution_count": 11,
   "metadata": {
    "collapsed": true
   },
   "outputs": [
    {
     "name": "stdout",
     "output_type": "stream",
     "text": [
      "The autoreload extension is already loaded. To reload it, use:\n",
      "  %reload_ext autoreload\n"
     ]
    }
   ],
   "source": [
    "import torch\n",
    "%load_ext autoreload\n",
    "%autoreload 2\n",
    "\n",
    "import os\n",
    "os.chdir('/home/tobias/Projects/bernoulli-mri')"
   ]
  },
  {
   "cell_type": "code",
   "execution_count": 12,
   "outputs": [],
   "source": [
    "import matplotlib.pyplot as plt\n",
    "from src.datasets import ACDCDataset\n",
    "\n",
    "acdc = ACDCDataset('data/ACDC', train=True)"
   ],
   "metadata": {
    "collapsed": false
   }
  },
  {
   "cell_type": "code",
   "execution_count": 13,
   "outputs": [
    {
     "name": "stdout",
     "output_type": "stream",
     "text": [
      "tensor(0.) tensor(0.9938)\n",
      "torch.complex64\n"
     ]
    }
   ],
   "source": [
    "sample = acdc[42]\n",
    "\n",
    "img = sample['img']\n",
    "seg = sample['seg']\n",
    "\n",
    "#plt.imshow(img.squeeze(0), cmap='gray')\n",
    "#plt.show()\n",
    "\n",
    "#plt.imshow(seg, cmap='gray')\n",
    "#plt.show()\n",
    "\n",
    "print(img.min(), img.max())\n",
    "\n",
    "from src.utils import fft2c, ifft2c\n",
    "k = fft2c(img)\n",
    "\n",
    "print(k.dtype)\n",
    "\n",
    "img_rev = ifft2c(k)\n",
    "\n",
    "#plt.imshow(torch.abs(img_rev.squeeze(0)), cmap='gray')\n",
    "#plt.show()\n",
    "\n",
    "#plt.hist(k.flatten())"
   ],
   "metadata": {
    "collapsed": false
   }
  }
 ],
 "metadata": {
  "kernelspec": {
   "display_name": "Python 3",
   "language": "python",
   "name": "python3"
  },
  "language_info": {
   "codemirror_mode": {
    "name": "ipython",
    "version": 2
   },
   "file_extension": ".py",
   "mimetype": "text/x-python",
   "name": "python",
   "nbconvert_exporter": "python",
   "pygments_lexer": "ipython2",
   "version": "2.7.6"
  }
 },
 "nbformat": 4,
 "nbformat_minor": 0
}
