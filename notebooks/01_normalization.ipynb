{
 "cells": [
  {
   "cell_type": "code",
   "execution_count": 73,
   "metadata": {
    "collapsed": true
   },
   "outputs": [
    {
     "name": "stdout",
     "output_type": "stream",
     "text": [
      "The autoreload extension is already loaded. To reload it, use:\n",
      "  %reload_ext autoreload\n"
     ]
    }
   ],
   "source": [
    "import torch\n",
    "%load_ext autoreload\n",
    "%autoreload 2\n",
    "\n",
    "import os\n",
    "os.chdir('/home/tobias/Projects/bernoulli-mri')"
   ]
  },
  {
   "cell_type": "code",
   "execution_count": 74,
   "outputs": [],
   "source": [
    "from src.utils import load_h5_slice\n",
    "\n",
    "FILE = 'data/file_brain_AXFLAIR_200_6002456.h5'\n",
    "\n",
    "sl = load_h5_slice(FILE, 8, 1)"
   ],
   "metadata": {
    "collapsed": false
   }
  },
  {
   "cell_type": "code",
   "execution_count": 75,
   "outputs": [],
   "source": [
    "import torch\n",
    "from src.utils import plot_image, ifft2c, fft2c, convert_complex_img_to_real, min_max_normalize\n",
    "\n",
    "img = ifft2c(sl)\n",
    "img = torch.abs(img)\n",
    "\n",
    "from src.losses import SobelLoss\n",
    "\n",
    "sobel = SobelLoss()\n",
    "img = sobel.compute_edges(img.unsqueeze(0))\n",
    "\n",
    "img = min_max_normalize(img)\n",
    "\n",
    "import matplotlib.pyplot as plt\n",
    "#plt.hist(img.flatten())\n",
    "#plt.show()\n",
    "\n",
    "\n",
    "#plt.imshow(img[0][0], cmap='gray')\n",
    "#plt.savefig('logs/dummy.png')\n",
    "#plt.show()"
   ],
   "metadata": {
    "collapsed": false
   }
  },
  {
   "cell_type": "code",
   "execution_count": 76,
   "outputs": [],
   "source": [
    "from src.datasets import ACDCDataset\n",
    "\n",
    "acdc = ACDCDataset('data/ACDC')\n",
    "\n",
    "batch = acdc[0]\n",
    "\n",
    "img = batch['seg'].get_fdata()\n",
    "\n",
    "#plt.imshow(img[:, :, 5], cmap='gray')\n",
    "#plt.show()"
   ],
   "metadata": {
    "collapsed": false
   }
  }
 ],
 "metadata": {
  "kernelspec": {
   "display_name": "Python 3",
   "language": "python",
   "name": "python3"
  },
  "language_info": {
   "codemirror_mode": {
    "name": "ipython",
    "version": 2
   },
   "file_extension": ".py",
   "mimetype": "text/x-python",
   "name": "python",
   "nbconvert_exporter": "python",
   "pygments_lexer": "ipython2",
   "version": "2.7.6"
  }
 },
 "nbformat": 4,
 "nbformat_minor": 0
}
