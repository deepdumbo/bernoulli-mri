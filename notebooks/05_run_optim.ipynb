{
 "cells": [
  {
   "cell_type": "code",
   "execution_count": 1,
   "id": "00e88148",
   "metadata": {},
   "outputs": [],
   "source": [
    "%load_ext autoreload\n",
    "%autoreload 2\n",
    "\n",
    "import os\n",
    "\n",
    "os.chdir('/home/tobias/projects/bernoulli-mri')\n",
    "\n",
    "import torch\n",
    "from src.run import run_dataset_optim"
   ]
  },
  {
   "cell_type": "code",
   "execution_count": 2,
   "id": "470c739d",
   "metadata": {},
   "outputs": [],
   "source": [
    "cfg = {\n",
    "    'dataset': 'acdc',\n",
    "    'dataset_root': '/data',\n",
    "    'batch_size': 64,\n",
    "    'steps': 2500,\n",
    "    'use_seg': False,\n",
    "    'seg_weight': 20,\n",
    "    'learning_rate': 1e-2,\n",
    "    'bern_samples': 4,\n",
    "    'mask_style': 'f',\n",
    "    'dense_target': 1 / 64,\n",
    "    'dense_start': 0.10,\n",
    "    'dense_end': 0.85,\n",
    "    'device': torch.device('cuda' if torch.cuda.is_available() else 'cpu'),\n",
    "    'log_dir': 'logs/dump',\n",
    "    'log_imgs': 10,\n",
    "    'log_interval': 50,\n",
    "    'seed': 42,\n",
    "}"
   ]
  },
  {
   "cell_type": "code",
   "execution_count": null,
   "id": "72930471",
   "metadata": {},
   "outputs": [
    {
     "name": "stderr",
     "output_type": "stream",
     "text": [
      "L: 4.22E-02 | D: 0.016: 100%|██████████| 2500/2500 [05:36<00:00,  7.42it/s]\n",
      "L: 4.22E-02 | D: 0.016: 100%|██████████| 2500/2500 [05:51<00:00,  7.12it/s]\n",
      "L: 4.22E-02 | D: 0.016: 100%|██████████| 2500/2500 [05:57<00:00,  7.00it/s]\n",
      "L: 4.22E-02 | D: 0.016: 100%|██████████| 2500/2500 [06:02<00:00,  6.90it/s]\n",
      "L: 9.22E-06 | D: 0.776:  12%|█▏        | 290/2500 [00:42<06:37,  5.56it/s]"
     ]
    }
   ],
   "source": [
    "datasets = ['acdc', 'brain', 'knee']\n",
    "acc_facs = [4, 8, 16, 32, 64]\n",
    "\n",
    "for ds in datasets:\n",
    "    for acc_fac in acc_facs:\n",
    "        cfg['dataset'] = ds\n",
    "        cfg['dense_targets'] = 1 / acc_fac\n",
    "        cfg['log_dir'] = os.path.join('logs', ds + '_' + str(acc_fac))\n",
    "        \n",
    "        run_dataset_optim(cfg)"
   ]
  }
 ],
 "metadata": {
  "kernelspec": {
   "display_name": "Python 3 (ipykernel)",
   "language": "python",
   "name": "python3"
  },
  "language_info": {
   "codemirror_mode": {
    "name": "ipython",
    "version": 3
   },
   "file_extension": ".py",
   "mimetype": "text/x-python",
   "name": "python",
   "nbconvert_exporter": "python",
   "pygments_lexer": "ipython3",
   "version": "3.10.6"
  }
 },
 "nbformat": 4,
 "nbformat_minor": 5
}
