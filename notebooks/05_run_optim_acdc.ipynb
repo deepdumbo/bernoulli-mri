{
 "cells": [
  {
   "cell_type": "code",
   "execution_count": 1,
   "id": "00e88148",
   "metadata": {},
   "outputs": [],
   "source": [
    "%load_ext autoreload\n",
    "%autoreload 2\n",
    "\n",
    "import os\n",
    "\n",
    "os.chdir('/data/core-rad/tobweber/bernoulli-mri')\n",
    "\n",
    "import torch\n",
    "from src.run import run_dataset_optim"
   ]
  },
  {
   "cell_type": "code",
   "execution_count": 2,
   "id": "95a469ee",
   "metadata": {},
   "outputs": [],
   "source": [
    "from src.losses import SegmentationProxyLoss\n",
    "from monai.networks.nets import UNet\n",
    "from monai.losses import DiceCELoss\n",
    "\n",
    "model = UNet(\n",
    "    spatial_dims=2,\n",
    "    in_channels=1,\n",
    "    out_channels=4,\n",
    "    channels=(16, 32, 64, 128, 256),\n",
    "    strides=(2, 2, 2, 2),\n",
    "    num_res_units=2\n",
    ").cuda()\n",
    "\n",
    "sd = torch.load('models/acdc_base.pt')\n",
    "model.load_state_dict(sd['model'])\n",
    "\n",
    "loss_func = DiceCELoss(\n",
    "    softmax=True,\n",
    "    include_background=False,\n",
    "    to_onehot_y=True\n",
    ")\n",
    "\n",
    "loss_func = SegmentationProxyLoss(model=model, seg_loss_func=loss_func).cuda()"
   ]
  },
  {
   "cell_type": "code",
   "execution_count": 3,
   "id": "470c739d",
   "metadata": {},
   "outputs": [],
   "source": [
    "cfg = {\n",
    "    'dataset': 'acdc',\n",
    "    'dataset_root': '/data/core-rad/data',\n",
    "    'batch_size': 32,\n",
    "    'steps': 2500,\n",
    "    'use_seg': True,\n",
    "    'learning_rate': 1e-3,\n",
    "    'bern_samples': 4,\n",
    "    'mask_style': 'h',\n",
    "    'num_workers': 32,\n",
    "    'dense_target': 1 / 8,\n",
    "    'dense_start': 0.10,\n",
    "    'dense_end': 0.90,\n",
    "    'device': torch.device('cuda' if torch.cuda.is_available() else 'cpu'),\n",
    "    'log_dir': 'logs/acdc_ensemble_8',\n",
    "    'log_imgs': 10,\n",
    "    'log_interval': 100,\n",
    "    'seed': None,\n",
    "}"
   ]
  },
  {
   "cell_type": "code",
   "execution_count": 4,
   "id": "72930471",
   "metadata": {},
   "outputs": [
    {
     "name": "stderr",
     "output_type": "stream",
     "text": [
      "L: 3.00E-01 | D: 0.125: 100%|█████████████| 2500/2500 [03:56<00:00, 10.59it/s]\n",
      "L: 2.84E-01 | D: 0.125: 100%|█████████████| 2500/2500 [05:26<00:00,  7.66it/s]\n",
      "L: 2.73E-01 | D: 0.125: 100%|█████████████| 2500/2500 [05:29<00:00,  7.58it/s]\n",
      "L: 2.89E-01 | D: 0.125: 100%|█████████████| 2500/2500 [05:31<00:00,  7.55it/s]\n",
      "L: 2.38E-01 | D: 0.125: 100%|█████████████| 2500/2500 [04:28<00:00,  9.31it/s]\n",
      "L: 3.11E-01 | D: 0.125: 100%|█████████████| 2500/2500 [04:54<00:00,  8.49it/s]\n",
      "L: 2.63E-01 | D: 0.125: 100%|█████████████| 2500/2500 [05:32<00:00,  7.52it/s]\n",
      "L: 2.79E-01 | D: 0.125: 100%|█████████████| 2500/2500 [05:41<00:00,  7.32it/s]\n",
      "L: 4.58E-01 | D: 0.133:  73%|█████████▍   | 1823/2500 [04:02<01:32,  7.34it/s]"
     ]
    }
   ],
   "source": [
    "num_members = 10\n",
    "acc_facs = [8, 16, 32,]\n",
    "\n",
    "for acc_fac in acc_facs:\n",
    "    for i in range(1, 1 + num_members):\n",
    "        cfg['dense_target'] = 1 / acc_fac\n",
    "        cfg['log_dir'] = os.path.join('logs', 'acdc_ensemble_proxy_1d_' + str(acc_fac) + '_m' + str(i))\n",
    "            \n",
    "        run_dataset_optim(cfg, loss_func)"
   ]
  },
  {
   "cell_type": "code",
   "execution_count": 5,
   "id": "e03e7e8a",
   "metadata": {},
   "outputs": [],
   "source": [
    "# num_members = 10\n",
    "# acc_facs = [8, 16, 32,]\n",
    "\n",
    "# for acc_fac in acc_facs:\n",
    "#     for i in range(1, 1 + num_members):\n",
    "#         cfg['dense_target'] = 1 / acc_fac\n",
    "#         cfg['log_dir'] = os.path.join('logs', 'acdc_ensemble_' + str(acc_fac) + '_m' + str(i))\n",
    "            \n",
    "#         run_dataset_optim(cfg)"
   ]
  },
  {
   "cell_type": "markdown",
   "id": "5578fce2",
   "metadata": {},
   "source": [
    "# Compute Expected Mask"
   ]
  },
  {
   "cell_type": "code",
   "execution_count": 6,
   "id": "9e402ce9",
   "metadata": {},
   "outputs": [],
   "source": [
    "import os\n",
    "import matplotlib.pyplot as plt\n",
    "from src.utils import get_top_k_mask\n",
    "\n",
    "\n",
    "for acc_fac in acc_facs:\n",
    "    path_stem = f'logs/acdc_ensemble_proxy_1d_{acc_fac}_m'\n",
    "\n",
    "    paths = [path_stem + str(i) + '/results.pt' for i in range(1, num_members + 1)]\n",
    "    scores = [torch.load(f)['scores'][-1].cuda() for f in paths]\n",
    "\n",
    "    scores_sum = torch.sum(torch.cat(scores), dim=(0,1))\n",
    "\n",
    "    mask = get_top_k_mask(scores_sum, acc_fac)\n",
    "    plt.imshow(mask.cpu(), cmap='gray')\n",
    "    plt.show()\n",
    "\n",
    "    new_path = f'logs/acdc_ensemble_proxy_1d_{acc_fac}'\n",
    "    os.makedirs(new_path, exist_ok=True)\n",
    "    torch.save({\n",
    "        'scores': [scores_sum.cpu()]\n",
    "    }, os.path.join(new_path, 'results.pt'))"
   ]
  }
 ],
 "metadata": {
  "kernelspec": {
   "display_name": "Python 3 (ipykernel)",
   "language": "python",
   "name": "python3"
  },
  "language_info": {
   "codemirror_mode": {
    "name": "ipython",
    "version": 3
   },
   "file_extension": ".py",
   "mimetype": "text/x-python",
   "name": "python",
   "nbconvert_exporter": "python",
   "pygments_lexer": "ipython3",
   "version": "3.8.13"
  }
 },
 "nbformat": 4,
 "nbformat_minor": 5
}
