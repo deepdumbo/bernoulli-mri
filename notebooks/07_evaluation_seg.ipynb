{
 "cells": [
  {
   "cell_type": "code",
   "execution_count": 1,
   "id": "00e88148",
   "metadata": {},
   "outputs": [],
   "source": [
    "%load_ext autoreload\n",
    "%autoreload 2\n",
    "\n",
    "import os\n",
    "\n",
    "os.chdir('/data/core-rad/tobweber/bernoulli-mri')\n",
    "\n",
    "import torch\n",
    "from torch.utils.data import DataLoader\n",
    "from src.datasets import ACDCDataset\n",
    "from monai.metrics import DiceMetric, MeanIoU\n",
    "from monai.networks.nets import UNet\n",
    "from monai.networks import one_hot\n",
    "from src.distribution import SoftBernoulliSampler\n",
    "from src.utils import ifft2c\n",
    "import matplotlib.pyplot as plt\n",
    "from src.utils import get_top_k_mask"
   ]
  },
  {
   "cell_type": "markdown",
   "id": "4c94ee12",
   "metadata": {},
   "source": [
    "# ACDC"
   ]
  },
  {
   "cell_type": "code",
   "execution_count": 2,
   "id": "3211b488",
   "metadata": {},
   "outputs": [],
   "source": [
    "ds = ACDCDataset('/data/core-rad/data/ACDC', train=False)\n",
    "dl = DataLoader(ds, batch_size=64, num_workers=8)\n",
    "\n",
    "model = UNet(\n",
    "        spatial_dims=2,\n",
    "        in_channels=1,\n",
    "        out_channels=4,\n",
    "        channels=(16, 32, 64, 128, 256),\n",
    "        strides=(2, 2, 2, 2),\n",
    "        num_res_units=2\n",
    "    ).cuda()\n",
    "\n",
    "\n",
    "sd = torch.load('models/acdc_base.pt')\n",
    "model.load_state_dict(sd['model'])\n",
    "\n",
    "model.eval()\n",
    "for p in model.parameters():\n",
    "    p.requires_grad = False\n",
    "\n",
    "dice_metric = DiceMetric(include_background=False)\n",
    "iou_metric = MeanIoU(include_background=False)\n",
    "\n",
    "sampler = SoftBernoulliSampler()\n",
    "\n",
    "r = {}"
   ]
  },
  {
   "cell_type": "markdown",
   "id": "f9a3e912",
   "metadata": {},
   "source": [
    "## Fully Sampled"
   ]
  },
  {
   "cell_type": "code",
   "execution_count": 3,
   "id": "f1aa1f20",
   "metadata": {},
   "outputs": [
    {
     "name": "stdout",
     "output_type": "stream",
     "text": [
      "Dice Score: 0.8549136519432068\n",
      "IoU Score: 0.7632980942726135\n"
     ]
    }
   ],
   "source": [
    "for batch in dl:\n",
    "        img = batch['img'].cuda()\n",
    "        seg = batch['seg'].cuda()\n",
    "\n",
    "        pred = model(img)\n",
    "\n",
    "        pred = one_hot(torch.argmax(pred, dim=1).unsqueeze(1), num_classes=4)\n",
    "        seg = one_hot(seg, num_classes=4)\n",
    "\n",
    "        dice_metric(y_pred=pred, y=seg)\n",
    "        iou_metric(y_pred=pred, y=seg)\n",
    "\n",
    "dice_res = dice_metric.aggregate()\n",
    "iou_res = iou_metric.aggregate()\n",
    "dice_metric.reset()\n",
    "iou_metric.reset()\n",
    "\n",
    "m = float(dice_res.mean(dim=0).cpu()), float(iou_res.mean(dim=0).cpu())\n",
    "r.update({'full': m})\n",
    "\n",
    "print('Dice Score:', m[0])\n",
    "print('IoU Score:', m[1])\n"
   ]
  },
  {
   "cell_type": "markdown",
   "id": "c4928cad",
   "metadata": {},
   "source": [
    "# Equispaced"
   ]
  },
  {
   "cell_type": "code",
   "execution_count": 4,
   "id": "62a7089e",
   "metadata": {},
   "outputs": [
    {
     "name": "stdout",
     "output_type": "stream",
     "text": [
      "Acc. Factor: 8\n",
      "Dice Score: 0.665573000907898\n",
      "IoU Score: 0.5406851172447205\n",
      "Acc. Factor: 16\n",
      "Dice Score: 0.671248733997345\n",
      "IoU Score: 0.5460855960845947\n",
      "Acc. Factor: 32\n",
      "Dice Score: 0.6418558359146118\n",
      "IoU Score: 0.5142226219177246\n"
     ]
    }
   ],
   "source": [
    "from src.mask_patterns import EquiSpacedMaskFunc\n",
    "\n",
    "acc_facs = [8, 16, 32]\n",
    "\n",
    "for a in acc_facs:\n",
    "    mask = EquiSpacedMaskFunc([0.04], [a])((1, 256, 256))[0].cuda()\n",
    "    mask = mask.squeeze(2).expand(256, -1)\n",
    "    mask = mask.unsqueeze(0).unsqueeze(0)\n",
    "    \n",
    "    for batch in dl:\n",
    "            img_k = batch['k_space'].cuda()\n",
    "            seg = batch['seg'].cuda()\n",
    "            \n",
    "            img_pred = ifft2c(img_k * mask + 0.0)\n",
    "            img_mag = torch.abs(img_pred)\n",
    "\n",
    "            pred = model(img_mag)\n",
    "\n",
    "            pred = one_hot(torch.argmax(pred, dim=1).unsqueeze(1), num_classes=4)\n",
    "            seg = one_hot(seg, num_classes=4)\n",
    "\n",
    "            dice_metric(y_pred=pred, y=seg)\n",
    "            iou_metric(y_pred=pred, y=seg)\n",
    "\n",
    "    dice_res = dice_metric.aggregate()\n",
    "    iou_res = iou_metric.aggregate()\n",
    "    dice_metric.reset()\n",
    "    iou_metric.reset()\n",
    "\n",
    "    m = float(dice_res.mean(dim=0).cpu()), float(iou_res.mean(dim=0).cpu())\n",
    "    r.update({'equi_' + str(a): m})\n",
    "\n",
    "    print('Acc. Factor:', a)\n",
    "    print('Dice Score:', m[0])\n",
    "    print('IoU Score:', m[1])\n",
    "    "
   ]
  },
  {
   "cell_type": "markdown",
   "id": "72c0b615",
   "metadata": {},
   "source": [
    "## 2D Variable Density"
   ]
  },
  {
   "cell_type": "code",
   "execution_count": 3,
   "id": "775c1bc5",
   "metadata": {},
   "outputs": [],
   "source": [
    "from src.mask_patterns import get_2d_variable_density_mask"
   ]
  },
  {
   "cell_type": "code",
   "execution_count": 19,
   "id": "dd373f60",
   "metadata": {},
   "outputs": [
    {
     "name": "stdout",
     "output_type": "stream",
     "text": [
      "Acc. Factor: 8\n",
      "Dice Score: 0.8441641330718994\n",
      "IoU Score: 0.7484228610992432\n",
      "Acc. Factor: 16\n",
      "Dice Score: 0.7152139544487\n",
      "IoU Score: 0.5969336628913879\n",
      "Acc. Factor: 32\n",
      "Dice Score: 0.3585960865020752\n",
      "IoU Score: 0.262611985206604\n"
     ]
    }
   ],
   "source": [
    "acc_facs = [8, 16, 32]\n",
    "\n",
    "for a in acc_facs:    \n",
    "    for batch in dl:\n",
    "            mask = get_2d_variable_density_mask(256, a, 25).cuda()\n",
    "            mask = mask.unsqueeze(0).unsqueeze(0)\n",
    "\n",
    "            img_k = batch['k_space'].cuda()\n",
    "            seg = batch['seg'].cuda()\n",
    "            \n",
    "            img_pred = ifft2c(img_k * mask + 0.0)\n",
    "            img_mag = torch.abs(img_pred)\n",
    "\n",
    "            pred = model(img_mag)\n",
    "\n",
    "            pred = one_hot(torch.argmax(pred, dim=1).unsqueeze(1), num_classes=4)\n",
    "            seg = one_hot(seg, num_classes=4)\n",
    "\n",
    "            dice_metric(y_pred=pred, y=seg)\n",
    "            iou_metric(y_pred=pred, y=seg)\n",
    "\n",
    "    dice_res = dice_metric.aggregate()\n",
    "    iou_res = iou_metric.aggregate()\n",
    "    dice_metric.reset()\n",
    "    iou_metric.reset()\n",
    "\n",
    "    m = float(dice_res.mean(dim=0).cpu()), float(iou_res.mean(dim=0).cpu())\n",
    "    r.update({'var_dens_' + str(a): m})\n",
    "\n",
    "    print('Acc. Factor:', a)\n",
    "    print('Dice Score:', m[0])\n",
    "    print('IoU Score:', m[1])"
   ]
  },
  {
   "cell_type": "markdown",
   "id": "4f980738",
   "metadata": {},
   "source": [
    "## BERM 2D PROXY"
   ]
  },
  {
   "cell_type": "code",
   "execution_count": 7,
   "id": "4b48771e",
   "metadata": {},
   "outputs": [
    {
     "name": "stdout",
     "output_type": "stream",
     "text": [
      "Run: acdc_ensemble_proxy_8\n",
      "Dice Score: 0.8379948139190674\n",
      "IoU Score: 0.7407156825065613\n",
      "Run: acdc_ensemble_proxy_16\n",
      "Dice Score: 0.786157488822937\n",
      "IoU Score: 0.6751657128334045\n",
      "Run: acdc_ensemble_proxy_32\n",
      "Dice Score: 0.7242296934127808\n",
      "IoU Score: 0.6035035252571106\n"
     ]
    }
   ],
   "source": [
    "#result_dirs = ['acdc_8_proxy', 'acdc_16_proxy', 'acdc_32_proxy']\n",
    "result_dirs = ['acdc_ensemble_proxy_8', 'acdc_ensemble_proxy_16', 'acdc_ensemble_proxy_32']\n",
    "acc_facs = [8, 16, 32]\n",
    "result_paths = [os.path.join('logs', d, 'results.pt') for d in result_dirs]\n",
    "scores = [torch.load(f)['scores'][-1].cuda() for f in result_paths]\n",
    "\n",
    "for score, d, a in zip(scores, result_dirs, acc_facs):\n",
    "    mask = get_top_k_mask(score.squeeze(), a)\n",
    "    \n",
    "    for batch in dl:\n",
    "            img_k = batch['k_space'].cuda()\n",
    "            seg = batch['seg'].cuda()\n",
    "            \n",
    "            img_pred = ifft2c(img_k * mask + 0.0)\n",
    "            img_mag = torch.abs(img_pred)\n",
    "\n",
    "            pred = model(img_mag)\n",
    "\n",
    "            pred = one_hot(torch.argmax(pred, dim=1).unsqueeze(1), num_classes=4)\n",
    "            seg = one_hot(seg, num_classes=4)\n",
    "\n",
    "            dice_metric(y_pred=pred, y=seg)\n",
    "            iou_metric(y_pred=pred, y=seg)\n",
    "\n",
    "    dice_res = dice_metric.aggregate()\n",
    "    iou_res = iou_metric.aggregate()\n",
    "    dice_metric.reset()\n",
    "    iou_metric.reset()\n",
    "\n",
    "    m = float(dice_res.mean(dim=0).cpu()), float(iou_res.mean(dim=0).cpu())\n",
    "    r.update({d: m})\n",
    "\n",
    "    print('Run:', d)\n",
    "    print('Dice Score:', m[0])\n",
    "    print('IoU Score:', m[1])"
   ]
  },
  {
   "cell_type": "markdown",
   "id": "6fc2ba94",
   "metadata": {},
   "source": [
    "## BERM 1D PROXY"
   ]
  },
  {
   "cell_type": "code",
   "execution_count": 8,
   "id": "9a8e0171",
   "metadata": {},
   "outputs": [
    {
     "name": "stdout",
     "output_type": "stream",
     "text": [
      "Run: acdc_ensemble_proxy_1d_8\n",
      "Dice Score: 0.8133999705314636\n",
      "IoU Score: 0.7085737586021423\n",
      "Run: acdc_ensemble_proxy_1d_16\n",
      "Dice Score: 0.7340726256370544\n",
      "IoU Score: 0.6145088076591492\n",
      "Run: acdc_ensemble_proxy_1d_32\n",
      "Dice Score: 0.5987941026687622\n",
      "IoU Score: 0.47245970368385315\n"
     ]
    }
   ],
   "source": [
    "#result_dirs = ['acdc_8_proxy_1d', 'acdc_16_proxy_1d', 'acdc_32_proxy_1d']\n",
    "result_dirs = ['acdc_ensemble_proxy_1d_8', 'acdc_ensemble_proxy_1d_16', 'acdc_ensemble_proxy_1d_32']\n",
    "acc_facs = [8, 16, 32]\n",
    "result_paths = [os.path.join('logs', d, 'results.pt') for d in result_dirs]\n",
    "scores = [torch.load(f)['scores'][-1].cuda() for f in result_paths]\n",
    "\n",
    "for score, d, a in zip(scores, result_dirs, acc_facs):\n",
    "    mask = get_top_k_mask(score.squeeze(), a)\n",
    "    \n",
    "    for batch in dl:\n",
    "            img_k = batch['k_space'].cuda()\n",
    "            seg = batch['seg'].cuda()\n",
    "            \n",
    "            img_pred = ifft2c(img_k * mask + 0.0)\n",
    "            img_mag = torch.abs(img_pred)\n",
    "\n",
    "            pred = model(img_mag)\n",
    "\n",
    "            pred = one_hot(torch.argmax(pred, dim=1).unsqueeze(1), num_classes=4)\n",
    "            seg = one_hot(seg, num_classes=4)\n",
    "\n",
    "            dice_metric(y_pred=pred, y=seg)\n",
    "            iou_metric(y_pred=pred, y=seg)\n",
    "\n",
    "    dice_res = dice_metric.aggregate()\n",
    "    iou_res = iou_metric.aggregate()\n",
    "    dice_metric.reset()\n",
    "    iou_metric.reset()\n",
    "\n",
    "    m = float(dice_res.mean(dim=0).cpu()), float(iou_res.mean(dim=0).cpu())\n",
    "    r.update({d: m})\n",
    "\n",
    "    print('Run:', d)\n",
    "    print('Dice Score:', m[0])\n",
    "    print('IoU Score:', m[1])"
   ]
  },
  {
   "cell_type": "markdown",
   "id": "79a34d60",
   "metadata": {},
   "source": [
    "# IGS Sampling"
   ]
  },
  {
   "cell_type": "code",
   "execution_count": 9,
   "id": "06c4722b",
   "metadata": {},
   "outputs": [
    {
     "name": "stdout",
     "output_type": "stream",
     "text": [
      "Acc. Factor: 8\n",
      "Dice Score: 0.8276612758636475\n",
      "IoU Score: 0.7264233827590942\n",
      "Acc. Factor: 16\n",
      "Dice Score: 0.7434073090553284\n",
      "IoU Score: 0.6251413822174072\n",
      "Acc. Factor: 32\n",
      "Dice Score: 0.5987941026687622\n",
      "IoU Score: 0.47245970368385315\n"
     ]
    }
   ],
   "source": [
    "from src.igs import IGS\n",
    "\n",
    "masks = torch.load('logs/IGS/igs_acdc_seg.pt').cuda()\n",
    "\n",
    "acc_facs = [8, 16, 32]\n",
    "ns = [IGS.get_n(acc_fac=a, img_size=256) for a in acc_facs]\n",
    "\n",
    "for n, a in zip(ns, acc_facs):\n",
    "    mask = masks[n - 2].unsqueeze(0)\n",
    "    mask = mask.expand(256, -1)\n",
    "    mask = mask.unsqueeze(0).unsqueeze(0)\n",
    "    \n",
    "    for batch in dl:\n",
    "            img_k = batch['k_space'].cuda()\n",
    "            seg = batch['seg'].cuda()\n",
    "            \n",
    "            img_pred = ifft2c(img_k * mask + 0.0)\n",
    "            img_mag = torch.abs(img_pred)\n",
    "\n",
    "            pred = model(img_mag)\n",
    "\n",
    "            pred = one_hot(torch.argmax(pred, dim=1).unsqueeze(1), num_classes=4)\n",
    "            seg = one_hot(seg, num_classes=4)\n",
    "\n",
    "            dice_metric(y_pred=pred, y=seg)\n",
    "            iou_metric(y_pred=pred, y=seg)\n",
    "\n",
    "    dice_res = dice_metric.aggregate()\n",
    "    iou_res = iou_metric.aggregate()\n",
    "    dice_metric.reset()\n",
    "    iou_metric.reset()\n",
    "\n",
    "    m = float(dice_res.mean(dim=0).cpu()), float(iou_res.mean(dim=0).cpu())\n",
    "    r.update({'igs_proxy' + str(a): m})\n",
    "\n",
    "    print('Acc. Factor:', a)\n",
    "    print('Dice Score:', m[0])\n",
    "    print('IoU Score:', m[1])\n",
    "    "
   ]
  },
  {
   "cell_type": "code",
   "execution_count": 10,
   "id": "85ce952e",
   "metadata": {},
   "outputs": [
    {
     "data": {
      "text/plain": [
       "{'full': (0.8549136519432068, 0.7632980942726135),\n",
       " 'equi_8': (0.665573000907898, 0.5406851172447205),\n",
       " 'equi_16': (0.671248733997345, 0.5460855960845947),\n",
       " 'equi_32': (0.6418558359146118, 0.5142226219177246),\n",
       " 'var_dens_8': (0.3991642892360687, 0.2990240454673767),\n",
       " 'var_dens_16': (0.37987008690834045, 0.28197941184043884),\n",
       " 'var_dens_32': (0.12038853019475937, 0.07972479611635208),\n",
       " 'acdc_ensemble_proxy_8': (0.8379948139190674, 0.7407156825065613),\n",
       " 'acdc_ensemble_proxy_16': (0.786157488822937, 0.6751657128334045),\n",
       " 'acdc_ensemble_proxy_32': (0.7242296934127808, 0.6035035252571106),\n",
       " 'acdc_ensemble_proxy_1d_8': (0.8133999705314636, 0.7085737586021423),\n",
       " 'acdc_ensemble_proxy_1d_16': (0.7340726256370544, 0.6145088076591492),\n",
       " 'acdc_ensemble_proxy_1d_32': (0.5987941026687622, 0.47245970368385315),\n",
       " 'igs_proxy8': (0.8276612758636475, 0.7264233827590942),\n",
       " 'igs_proxy16': (0.7434073090553284, 0.6251413822174072),\n",
       " 'igs_proxy32': (0.5987941026687622, 0.47245970368385315)}"
      ]
     },
     "execution_count": 10,
     "metadata": {},
     "output_type": "execute_result"
    }
   ],
   "source": [
    "r"
   ]
  }
 ],
 "metadata": {
  "kernelspec": {
   "display_name": "Python 3 (ipykernel)",
   "language": "python",
   "name": "python3"
  },
  "language_info": {
   "codemirror_mode": {
    "name": "ipython",
    "version": 3
   },
   "file_extension": ".py",
   "mimetype": "text/x-python",
   "name": "python",
   "nbconvert_exporter": "python",
   "pygments_lexer": "ipython3",
   "version": "3.8.13"
  }
 },
 "nbformat": 4,
 "nbformat_minor": 5
}
