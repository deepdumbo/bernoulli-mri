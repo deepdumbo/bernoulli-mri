{
 "cells": [
  {
   "cell_type": "code",
   "execution_count": 15,
   "id": "00e88148",
   "metadata": {},
   "outputs": [
    {
     "name": "stdout",
     "output_type": "stream",
     "text": [
      "The autoreload extension is already loaded. To reload it, use:\n",
      "  %reload_ext autoreload\n"
     ]
    }
   ],
   "source": [
    "%load_ext autoreload\n",
    "%autoreload 2\n",
    "\n",
    "import os\n",
    "\n",
    "os.chdir('/data/core-rad/tobweber/bernoulli-mri')\n",
    "import torch\n",
    "from src.igs import IGS\n",
    "from src.datasets import ACDCDataset, BrainDataset, KneeDataset\n",
    "\n",
    "log_dir = 'logs/IGS'\n",
    "os.makedirs(log_dir, exist_ok=True)"
   ]
  },
  {
   "cell_type": "markdown",
   "source": [
    "## Run IGS Reconstruction Training"
   ],
   "metadata": {
    "collapsed": false
   }
  },
  {
   "cell_type": "code",
   "execution_count": 2,
   "id": "470c739d",
   "metadata": {},
   "outputs": [
    {
     "name": "stderr",
     "output_type": "stream",
     "text": [
      "select: 163, loss: 0.008995: 100%|████████████| 64/64 [00:48<00:00,  1.32it/s]\n"
     ]
    }
   ],
   "source": [
    "ds = ACDCDataset('/data/core-rad/data/ACDC', train=True)\n",
    "igs = IGS()\n",
    "w_list = igs.run(ds, acc_fac=4)\n",
    "\n",
    "w_full = torch.stack(w_list).cpu()\n",
    "torch.save(w_full, os.path.join(log_dir, 'igs_acdc_v2.pt'))"
   ]
  },
  {
   "cell_type": "code",
   "execution_count": 3,
   "id": "ea59bbea",
   "metadata": {},
   "outputs": [
    {
     "name": "stderr",
     "output_type": "stream",
     "text": [
      "select: 113, loss: 0.002925: 100%|██████████| 80/80 [12:54<00:00,  9.69s/it]\n"
     ]
    }
   ],
   "source": [
    "ds = KneeDataset('/data/knee_fastmri', train=True)\n",
    "igs = IGS()\n",
    "w_list = igs.run(ds, acc_fac=4)\n",
    "\n",
    "w_full = torch.stack(w_list).cpu() \n",
    "torch.save(w_full, os.path.join(log_dir, 'igs_knee.pt'))"
   ]
  },
  {
   "cell_type": "code",
   "execution_count": 3,
   "id": "37759a2a",
   "metadata": {},
   "outputs": [
    {
     "name": "stderr",
     "output_type": "stream",
     "text": [
      "select: 97, loss: 0.006519: 100%|███████████| 64/64 [1:44:41<00:00, 98.16s/it]\n"
     ]
    }
   ],
   "source": [
    "ds = BrainDataset('/data/core-rad/data/Task01_BrainTumour', train=True)\n",
    "igs = IGS()\n",
    "w_list = igs.run(ds, acc_fac=4)\n",
    "\n",
    "w_full = torch.stack(w_list).cpu()\n",
    "torch.save(w_full, os.path.join(log_dir, 'igs_brats.pt'))"
   ]
  },
  {
   "cell_type": "markdown",
   "source": [
    "## Run IGS Segmentation Training\n",
    "\n",
    "For this, the base class is updated to work with the `SegmentationProxyLoss`."
   ],
   "metadata": {
    "collapsed": false
   }
  },
  {
   "cell_type": "code",
   "execution_count": 16,
   "id": "f4243cae",
   "metadata": {},
   "outputs": [],
   "source": [
    "from monai.networks.nets import UNet\n",
    "from monai.losses import DiceCELoss\n",
    "from src.losses import SegmentationProxyLoss\n",
    "\n",
    "model = UNet(\n",
    "    spatial_dims=2,\n",
    "    in_channels=4,\n",
    "    out_channels=4,\n",
    "    channels=(16, 32, 64, 128, 256),\n",
    "    strides=(2, 2, 2, 2),\n",
    "    num_res_units=2\n",
    ")\n",
    "\n",
    "sd = torch.load('models/brain_base.pt')\n",
    "model.load_state_dict(sd['model'])\n",
    "\n",
    "loss_func = DiceCELoss(\n",
    "    softmax=True,\n",
    "    include_background=False,\n",
    "    to_onehot_y=True\n",
    ")\n",
    "\n",
    "loss_func = SegmentationProxyLoss(model=model, seg_loss_func=loss_func).to('cuda')"
   ]
  },
  {
   "cell_type": "code",
   "execution_count": 17,
   "outputs": [],
   "source": [
    "from typing import Optional, List\n",
    "\n",
    "import torch\n",
    "from torch import nn, Tensor\n",
    "from torch.utils.data import Dataset, DataLoader\n",
    "from tqdm import tqdm\n",
    "from src.utils import ifft2c\n",
    "\n",
    "\n",
    "class IGS:\n",
    "    \"\"\"Implements Iterative Gradients Sampling from Razumov et al\"\"\"\n",
    "\n",
    "    def __init__(\n",
    "            self,\n",
    "            loss_func: Optional[nn.Module] = None,\n",
    "            device: str = 'cuda',\n",
    "            num_workers: int = 8,\n",
    "            batch_size: int = 32\n",
    "    ) -> None:\n",
    "        if loss_func is None:\n",
    "            self.loss_func = nn.L1Loss()\n",
    "        else:\n",
    "            self.loss_func = loss_func\n",
    "\n",
    "        self.device = torch.device(device)\n",
    "        self.num_workers = num_workers\n",
    "        self.batch_size = batch_size\n",
    "\n",
    "    @staticmethod\n",
    "    def get_n(acc_fac: int, img_size: int) -> int:\n",
    "        return img_size // acc_fac\n",
    "\n",
    "    def run(self, ds: Dataset, acc_fac: int) -> List[Tensor]:\n",
    "        dl = DataLoader(\n",
    "            dataset=ds,\n",
    "            batch_size=self.batch_size,\n",
    "            shuffle=True,\n",
    "            num_workers=self.num_workers\n",
    "        )\n",
    "\n",
    "        img_size = ds[0]['img'].shape[-1]\n",
    "        n = IGS.get_n(acc_fac, img_size)\n",
    "        w = torch.zeros(\n",
    "            img_size,\n",
    "            dtype=torch.float,\n",
    "            device=self.device,\n",
    "        )\n",
    "        w[img_size//2] = 1\n",
    "\n",
    "        w_list = []\n",
    "\n",
    "        pbar = tqdm(range(n))\n",
    "        for _ in pbar:\n",
    "\n",
    "            w.grad = None\n",
    "            w.requires_grad = True\n",
    "            for batch in dl:\n",
    "                img_k = batch['k_space'].to(self.device)\n",
    "\n",
    "                img_pred = ifft2c(img_k * w + 0.0)\n",
    "                img_mag = torch.abs(img_pred)\n",
    "\n",
    "                loss = self.loss_func(img_mag, batch['seg'].to(self.device))\n",
    "                loss.backward()\n",
    "\n",
    "            for i in torch.topk(w.grad, img_size, largest=False).indices:\n",
    "                if w[i] == 0:\n",
    "                    w = w.detach()\n",
    "                    w[i] = 1.\n",
    "                    w_list.append(w.clone())\n",
    "                    pbar.set_description('select: %d, loss: %.6f' % (i.item(), loss.item()))\n",
    "                    break\n",
    "        return w_list\n"
   ],
   "metadata": {
    "collapsed": false
   }
  },
  {
   "cell_type": "code",
   "execution_count": 11,
   "id": "50066b0f",
   "metadata": {},
   "outputs": [
    {
     "name": "stderr",
     "output_type": "stream",
     "text": [
      "select: 94, loss: 0.129039: 100%|█████████████| 64/64 [01:05<00:00,  1.02s/it]\n"
     ]
    }
   ],
   "source": [
    "ds = ACDCDataset('/data/core-rad/data/ACDC', train=True)\n",
    "igs = IGS(loss_func=loss_func)\n",
    "w_list = igs.run(ds, acc_fac=4)\n",
    "\n",
    "w_full = torch.stack(w_list).cpu()\n",
    "torch.save(w_full, os.path.join(log_dir, 'igs_acdc_seg.pt'))"
   ]
  },
  {
   "cell_type": "code",
   "execution_count": 9,
   "id": "12541184",
   "metadata": {},
   "outputs": [
    {
     "name": "stderr",
     "output_type": "stream",
     "text": [
      "select: 68, loss: 1.085384: 100%|██████████| 80/80 [29:17<00:00, 21.97s/it] \n"
     ]
    }
   ],
   "source": [
    "ds = KneeDataset('/data/knee_fastmri', train=True)\n",
    "igs = IGS(loss_func=loss_func)\n",
    "w_list = igs.run(ds, acc_fac=4)\n",
    "\n",
    "w_full = torch.stack(w_list).cpu() \n",
    "torch.save(w_full, os.path.join(log_dir, 'igs_knee_seg.pt'))"
   ]
  },
  {
   "cell_type": "code",
   "execution_count": 18,
   "id": "e4709873",
   "metadata": {},
   "outputs": [
    {
     "name": "stderr",
     "output_type": "stream",
     "text": [
      "select: 143, loss: 0.567427: 100%|████████████| 32/32 [42:31<00:00, 79.74s/it]\n"
     ]
    }
   ],
   "source": [
    "ds = BrainDataset('/data/core-rad/data/Task01_BrainTumour', train=True)\n",
    "igs = IGS(loss_func=loss_func)\n",
    "w_list = igs.run(ds, acc_fac=8)\n",
    "\n",
    "w_full = torch.stack(w_list).cpu()\n",
    "torch.save(w_full, os.path.join(log_dir, 'igs_brats_seg.pt'))"
   ]
  }
 ],
 "metadata": {
  "kernelspec": {
   "display_name": "Python 3 (ipykernel)",
   "language": "python",
   "name": "python3"
  },
  "language_info": {
   "codemirror_mode": {
    "name": "ipython",
    "version": 3
   },
   "file_extension": ".py",
   "mimetype": "text/x-python",
   "name": "python",
   "nbconvert_exporter": "python",
   "pygments_lexer": "ipython3",
   "version": "3.8.13"
  }
 },
 "nbformat": 4,
 "nbformat_minor": 5
}
