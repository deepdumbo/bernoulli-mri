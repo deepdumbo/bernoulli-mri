{
 "cells": [
  {
   "cell_type": "code",
   "execution_count": 1,
   "id": "00e88148",
   "metadata": {},
   "outputs": [
    {
     "name": "stderr",
     "output_type": "stream",
     "text": [
      "In the future `np.bool` will be defined as the corresponding NumPy scalar.  (This may have returned Python scalars in past versions.\n",
      "In the future `np.bool` will be defined as the corresponding NumPy scalar.  (This may have returned Python scalars in past versions.\n",
      "In the future `np.bool` will be defined as the corresponding NumPy scalar.  (This may have returned Python scalars in past versions.\n",
      "In the future `np.bool` will be defined as the corresponding NumPy scalar.  (This may have returned Python scalars in past versions.\n"
     ]
    }
   ],
   "source": [
    "%load_ext autoreload\n",
    "%autoreload 2\n",
    "\n",
    "import os\n",
    "from typing import Optional, Tuple\n",
    "\n",
    "os.chdir('/data/core-rad/tobweber/bernoulli-mri')\n",
    "\n",
    "import torch\n",
    "from torch import Tensor\n",
    "from torch.utils.data import DataLoader\n",
    "from monai.metrics import DiceMetric, MeanIoU\n",
    "from monai.networks.nets import UNet\n",
    "from monai.networks import one_hot\n",
    "import pandas as pd\n",
    "from tqdm import tqdm\n",
    "\n",
    "from src.datasets import ACDCDataset\n",
    "from src.utils import ifft2c\n",
    "from src.utils import get_top_k_mask"
   ]
  },
  {
   "cell_type": "markdown",
   "id": "4c94ee12",
   "metadata": {},
   "source": [
    "# ACDC"
   ]
  },
  {
   "cell_type": "code",
   "execution_count": 2,
   "id": "3211b488",
   "metadata": {},
   "outputs": [],
   "source": [
    "ds = ACDCDataset('/data/core-rad/data/ACDC', train=False)\n",
    "dl = DataLoader(ds, batch_size=64, num_workers=16, persistent_workers=True)\n",
    "\n",
    "model = UNet(\n",
    "        spatial_dims=2,\n",
    "        in_channels=1,\n",
    "        out_channels=4,\n",
    "        channels=(16, 32, 64, 128, 256),\n",
    "        strides=(2, 2, 2, 2),\n",
    "        num_res_units=2\n",
    "    ).cuda()\n",
    "\n",
    "\n",
    "sd = torch.load('models/acdc_unet.pt', map_location='cpu')\n",
    "model.load_state_dict(sd['model'])\n",
    "\n",
    "model.eval()\n",
    "for p in model.parameters():\n",
    "    p.requires_grad = False\n",
    "\n",
    "result = {\n",
    "    'dataset': [],\n",
    "    'method': [],\n",
    "    'acc_fac': [],\n",
    "    'dice': [],\n",
    "    'iou': [],\n",
    "}"
   ]
  },
  {
   "cell_type": "code",
   "execution_count": 3,
   "id": "d807adb7",
   "metadata": {},
   "outputs": [],
   "source": [
    "def get_metrics(dl: DataLoader, model: UNet, mask: Optional[Tensor] = None) -> Tuple[float, float]:\n",
    "    dice_metric = DiceMetric(include_background=False)\n",
    "    iou_metric = MeanIoU(include_background=False)\n",
    "\n",
    "    for batch in tqdm(dl, leave=False):\n",
    "\n",
    "        if mask is not None:\n",
    "            img = batch['k_space'].cuda()\n",
    "            img = ifft2c(img * mask + 0.0)\n",
    "            img = torch.abs(img)\n",
    "        else:\n",
    "            img = batch['img'].cuda()\n",
    "\n",
    "        seg = batch['seg'].cuda()\n",
    "        pred = model(img)\n",
    "\n",
    "        pred = one_hot(torch.argmax(pred, dim=1).unsqueeze(1), num_classes=4)\n",
    "        seg = one_hot(seg, num_classes=4)\n",
    "\n",
    "        dice_metric(y_pred=pred, y=seg)\n",
    "        iou_metric(y_pred=pred, y=seg)\n",
    "\n",
    "    dice_res = dice_metric.aggregate()\n",
    "    iou_res = iou_metric.aggregate()\n",
    "\n",
    "    return float(dice_res.mean(dim=0).cpu()), float(iou_res.mean(dim=0).cpu())"
   ]
  },
  {
   "cell_type": "markdown",
   "id": "f9a3e912",
   "metadata": {},
   "source": [
    "## Fully Sampled"
   ]
  },
  {
   "cell_type": "code",
   "execution_count": 4,
   "id": "f1aa1f20",
   "metadata": {},
   "outputs": [
    {
     "name": "stderr",
     "output_type": "stream",
     "text": [
      "                                                                                           "
     ]
    },
    {
     "name": "stdout",
     "output_type": "stream",
     "text": [
      "Dice Score: 0.8549136519432068\n",
      "IoU Score: 0.7632980942726135\n"
     ]
    },
    {
     "name": "stderr",
     "output_type": "stream",
     "text": [
      "\r"
     ]
    }
   ],
   "source": [
    "dice, iou = get_metrics(dl, model)\n",
    "\n",
    "result['dataset'].append('acdc')\n",
    "result['method'].append('full')\n",
    "result['acc_fac'].append(1)\n",
    "result['dice'].append(dice)\n",
    "result['iou'].append(iou)\n",
    "\n",
    "print('Dice Score:', dice)\n",
    "print('IoU Score:', iou)"
   ]
  },
  {
   "cell_type": "markdown",
   "id": "c4928cad",
   "metadata": {},
   "source": [
    "# Equispaced"
   ]
  },
  {
   "cell_type": "code",
   "execution_count": 5,
   "id": "62a7089e",
   "metadata": {},
   "outputs": [
    {
     "name": "stderr",
     "output_type": "stream",
     "text": [
      "                                                                                           \r"
     ]
    }
   ],
   "source": [
    "from src.mask_patterns import EquiSpacedMaskFunc\n",
    "\n",
    "num_runs = 10\n",
    "acc_facs = [8, 16, 32]\n",
    "\n",
    "for _ in range(num_runs):\n",
    "    for a in acc_facs:\n",
    "        mask = EquiSpacedMaskFunc([0.04], [a])((1, 256, 256))[0].cuda()\n",
    "        mask = mask.squeeze(2).expand(256, -1)\n",
    "        mask = mask.unsqueeze(0).unsqueeze(0)\n",
    "\n",
    "        dice, iou = get_metrics(dl, model, mask)\n",
    "\n",
    "        result['dataset'].append('acdc')\n",
    "        result['method'].append('equi')\n",
    "        result['acc_fac'].append(a)\n",
    "        result['dice'].append(dice)\n",
    "        result['iou'].append(iou)"
   ]
  },
  {
   "cell_type": "markdown",
   "id": "72c0b615",
   "metadata": {},
   "source": [
    "## 2D Variable Density"
   ]
  },
  {
   "cell_type": "code",
   "execution_count": 6,
   "id": "775c1bc5",
   "metadata": {},
   "outputs": [
    {
     "name": "stderr",
     "output_type": "stream",
     "text": [
      "                                                                                           \r"
     ]
    }
   ],
   "source": [
    "from src.mask_patterns import get_2d_variable_density_mask\n",
    "\n",
    "num_runs = 10\n",
    "acc_facs = [8, 16, 32]\n",
    "\n",
    "for _ in range(num_runs):\n",
    "    for a in acc_facs:\n",
    "        mask = get_2d_variable_density_mask(256, a, 25).cuda()\n",
    "        mask = mask.unsqueeze(0).unsqueeze(0)\n",
    "\n",
    "        dice, iou = get_metrics(dl, model, mask)\n",
    "\n",
    "        result['dataset'].append('acdc')\n",
    "        result['method'].append('var_dens')\n",
    "        result['acc_fac'].append(a)\n",
    "        result['dice'].append(dice)\n",
    "        result['iou'].append(iou)"
   ]
  },
  {
   "cell_type": "markdown",
   "id": "4f980738",
   "metadata": {},
   "source": [
    "## PROM"
   ]
  },
  {
   "cell_type": "code",
   "execution_count": 7,
   "id": "4b48771e",
   "metadata": {},
   "outputs": [
    {
     "name": "stderr",
     "output_type": "stream",
     "text": [
      "                                                                                           \r"
     ]
    }
   ],
   "source": [
    "num_runs = 10\n",
    "dims = ['1d', '2d']\n",
    "acc_facs = [8, 16, 32]\n",
    "\n",
    "for run_idx in range(1, num_runs + 1):\n",
    "    for d in dims:\n",
    "        for a in acc_facs:\n",
    "            path = f'logs/acdc_' + d + f'_a{a}/acdc_r{run_idx}.pt'\n",
    "            score = torch.load(path)['scores'][-1].cuda()\n",
    "\n",
    "            mask = get_top_k_mask(score.squeeze(), a)\n",
    "\n",
    "            dice, iou = get_metrics(dl, model, mask)\n",
    "\n",
    "            result['dataset'].append('acdc')\n",
    "            result['method'].append('prom_' + d)\n",
    "            result['acc_fac'].append(a)\n",
    "            result['dice'].append(dice)\n",
    "            result['iou'].append(iou)"
   ]
  },
  {
   "cell_type": "markdown",
   "id": "79a34d60",
   "metadata": {},
   "source": [
    "# IGS Sampling"
   ]
  },
  {
   "cell_type": "code",
   "execution_count": 8,
   "id": "06c4722b",
   "metadata": {},
   "outputs": [
    {
     "name": "stderr",
     "output_type": "stream",
     "text": [
      "                                                                                           \r"
     ]
    }
   ],
   "source": [
    "from src.igs import IGS\n",
    "\n",
    "num_runs = 10\n",
    "acc_facs = [8, 16, 32]\n",
    "\n",
    "for run_idx in range(1, num_runs + 1):\n",
    "    masks = torch.load(f'logs/IGS/igs_acdc_seg_{run_idx}.pt').cuda()\n",
    "    ns = [IGS.get_n(acc_fac=a, img_size=256) for a in acc_facs]\n",
    "\n",
    "    for n, a in zip(ns, acc_facs):\n",
    "        mask = masks[n - 2].unsqueeze(0)\n",
    "        mask = mask.expand(256, -1)\n",
    "        mask = mask.unsqueeze(0).unsqueeze(0)\n",
    "\n",
    "        dice, iou = get_metrics(dl, model, mask)\n",
    "\n",
    "        result['dataset'].append('acdc')\n",
    "        result['method'].append('igs')\n",
    "        result['acc_fac'].append(a)\n",
    "        result['dice'].append(dice)\n",
    "        result['iou'].append(iou)\n",
    "    "
   ]
  },
  {
   "cell_type": "code",
   "execution_count": 9,
   "id": "85ce952e",
   "metadata": {},
   "outputs": [],
   "source": [
    "df = pd.DataFrame.from_dict(result)\n",
    "\n",
    "df.head()\n",
    "\n",
    "df.to_csv('logs/acdc.csv')"
   ]
  },
  {
   "cell_type": "code",
   "execution_count": 10,
   "id": "cd975a07",
   "metadata": {},
   "outputs": [
    {
     "name": "stdout",
     "output_type": "stream",
     "text": [
      "GROUP: ('equi', 8)\n",
      "DICE MEAN 0.671 | SD 0.015\n",
      "IOU  MEAN 0.546 | SD 0.016\n",
      "------------------------------------\n",
      "GROUP: ('equi', 16)\n",
      "DICE MEAN 0.645 | SD 0.011\n",
      "IOU  MEAN 0.517 | SD 0.012\n",
      "------------------------------------\n",
      "GROUP: ('equi', 32)\n",
      "DICE MEAN 0.644 | SD 0.011\n",
      "IOU  MEAN 0.517 | SD 0.011\n",
      "------------------------------------\n",
      "GROUP: ('full', 1)\n",
      "DICE MEAN 0.855 | SD nan\n",
      "IOU  MEAN 0.763 | SD nan\n",
      "------------------------------------\n",
      "GROUP: ('igs', 8)\n",
      "DICE MEAN 0.828 | SD 0.000\n",
      "IOU  MEAN 0.726 | SD 0.000\n",
      "------------------------------------\n",
      "GROUP: ('igs', 16)\n",
      "DICE MEAN 0.745 | SD 0.003\n",
      "IOU  MEAN 0.627 | SD 0.003\n",
      "------------------------------------\n",
      "GROUP: ('igs', 32)\n",
      "DICE MEAN 0.592 | SD 0.021\n",
      "IOU  MEAN 0.466 | SD 0.021\n",
      "------------------------------------\n",
      "GROUP: ('prom_1d', 8)\n",
      "DICE MEAN 0.762 | SD 0.012\n",
      "IOU  MEAN 0.650 | SD 0.013\n",
      "------------------------------------\n",
      "GROUP: ('prom_1d', 16)\n",
      "DICE MEAN 0.717 | SD 0.018\n",
      "IOU  MEAN 0.599 | SD 0.020\n",
      "------------------------------------\n",
      "GROUP: ('prom_1d', 32)\n",
      "DICE MEAN 0.587 | SD 0.022\n",
      "IOU  MEAN 0.460 | SD 0.022\n",
      "------------------------------------\n",
      "GROUP: ('prom_2d', 8)\n",
      "DICE MEAN 0.839 | SD 0.002\n",
      "IOU  MEAN 0.742 | SD 0.002\n",
      "------------------------------------\n",
      "GROUP: ('prom_2d', 16)\n",
      "DICE MEAN 0.789 | SD 0.008\n",
      "IOU  MEAN 0.679 | SD 0.009\n",
      "------------------------------------\n",
      "GROUP: ('prom_2d', 32)\n",
      "DICE MEAN 0.727 | SD 0.013\n",
      "IOU  MEAN 0.606 | SD 0.014\n",
      "------------------------------------\n",
      "GROUP: ('var_dens', 8)\n",
      "DICE MEAN 0.847 | SD 0.001\n",
      "IOU  MEAN 0.752 | SD 0.002\n",
      "------------------------------------\n",
      "GROUP: ('var_dens', 16)\n",
      "DICE MEAN 0.644 | SD 0.173\n",
      "IOU  MEAN 0.534 | SD 0.166\n",
      "------------------------------------\n",
      "GROUP: ('var_dens', 32)\n",
      "DICE MEAN 0.399 | SD 0.175\n",
      "IOU  MEAN 0.301 | SD 0.144\n",
      "------------------------------------\n"
     ]
    }
   ],
   "source": [
    "for group_name, df_group in df.groupby(['method', 'acc_fac']):\n",
    "        \n",
    "    print('GROUP:', group_name)\n",
    "    print('DICE MEAN {:.3f} | SD {:.3f}'.format(df_group['dice'].mean(), df_group['dice'].std()))\n",
    "    print('IOU  MEAN {:.3f} | SD {:.3f}'.format(df_group['iou'].mean(), df_group['iou'].std()))\n",
    "    print('------------------------------------')"
   ]
  }
 ],
 "metadata": {
  "kernelspec": {
   "display_name": "Python 3 (ipykernel)",
   "language": "python",
   "name": "python3"
  },
  "language_info": {
   "codemirror_mode": {
    "name": "ipython",
    "version": 3
   },
   "file_extension": ".py",
   "mimetype": "text/x-python",
   "name": "python",
   "nbconvert_exporter": "python",
   "pygments_lexer": "ipython3",
   "version": "3.8.13"
  }
 },
 "nbformat": 4,
 "nbformat_minor": 5
}
