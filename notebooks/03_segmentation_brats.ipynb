{
 "cells": [
  {
   "cell_type": "code",
   "execution_count": 1,
   "id": "00e88148",
   "metadata": {},
   "outputs": [
    {
     "name": "stderr",
     "output_type": "stream",
     "text": [
      "In the future `np.bool` will be defined as the corresponding NumPy scalar.  (This may have returned Python scalars in past versions.\n",
      "In the future `np.bool` will be defined as the corresponding NumPy scalar.  (This may have returned Python scalars in past versions.\n",
      "In the future `np.bool` will be defined as the corresponding NumPy scalar.  (This may have returned Python scalars in past versions.\n",
      "In the future `np.bool` will be defined as the corresponding NumPy scalar.  (This may have returned Python scalars in past versions.\n"
     ]
    }
   ],
   "source": [
    "%load_ext autoreload\n",
    "%autoreload 2\n",
    "\n",
    "import os\n",
    "from typing import Optional, Tuple\n",
    "\n",
    "os.chdir('/data/core-rad/tobweber/bernoulli-mri')\n",
    "\n",
    "import torch\n",
    "from torch import Tensor\n",
    "from torch.utils.data import DataLoader\n",
    "from monai.metrics import DiceMetric, MeanIoU\n",
    "from monai.networks.nets import UNet\n",
    "import pandas as pd\n",
    "from tqdm import tqdm\n",
    "\n",
    "from src.datasets import BrainDataset\n",
    "from src.utils import ifft2c\n",
    "from src.utils import get_top_k_mask, convert_brats_labels"
   ]
  },
  {
   "cell_type": "markdown",
   "id": "4c94ee12",
   "metadata": {},
   "source": [
    "# BRATS"
   ]
  },
  {
   "cell_type": "code",
   "execution_count": 2,
   "id": "3211b488",
   "metadata": {},
   "outputs": [],
   "source": [
    "ds = BrainDataset('/data/core-rad/data/Task01_BrainTumour', train=False)\n",
    "dl = DataLoader(ds, batch_size=64, num_workers=32, persistent_workers=True)\n",
    "\n",
    "model = UNet(\n",
    "        spatial_dims=2,\n",
    "        in_channels=4,\n",
    "        out_channels=4,\n",
    "        channels=(16, 32, 64, 128, 256),\n",
    "        strides=(2, 2, 2, 2),\n",
    "        num_res_units=2\n",
    "    ).cuda()\n",
    "\n",
    "\n",
    "sd = torch.load('models/brain_unet.pt')\n",
    "model.load_state_dict(sd['model'])\n",
    "\n",
    "model.eval()\n",
    "for p in model.parameters():\n",
    "    p.requires_grad = False\n",
    "\n",
    "result = {\n",
    "    'dataset': [],\n",
    "    'method': [],\n",
    "    'acc_fac': [],\n",
    "    'dice': [],\n",
    "    'iou': [],\n",
    "}"
   ]
  },
  {
   "cell_type": "code",
   "execution_count": 3,
   "id": "b5aa6893",
   "metadata": {},
   "outputs": [],
   "source": [
    "def get_metrics(dl: DataLoader, model: UNet, mask: Optional[Tensor] = None) -> Tuple[float, float]:\n",
    "    dice_metric = DiceMetric(include_background=False)\n",
    "    iou_metric = MeanIoU(include_background=False)\n",
    "\n",
    "    for batch in tqdm(dl, leave=False):\n",
    "        if mask is not None:\n",
    "            img = batch['k_space'].cuda()\n",
    "            img = ifft2c(img * mask + 0.0)\n",
    "            img = torch.abs(img)\n",
    "        else:\n",
    "            img = batch['img'].cuda()\n",
    "\n",
    "        seg = batch['seg'].cuda()\n",
    "        pred = model(img)\n",
    "\n",
    "        pred = convert_brats_labels(torch.argmax(pred, dim=1).unsqueeze(1))\n",
    "        seg = convert_brats_labels(seg)\n",
    "\n",
    "        dice_metric(y_pred=pred, y=seg)\n",
    "        iou_metric(y_pred=pred, y=seg)\n",
    "\n",
    "    dice_res = dice_metric.aggregate()\n",
    "    iou_res = iou_metric.aggregate()\n",
    "\n",
    "    return float(dice_res.mean(dim=0).cpu()), float(iou_res.mean(dim=0).cpu())"
   ]
  },
  {
   "cell_type": "markdown",
   "id": "f9a3e912",
   "metadata": {},
   "source": [
    "## Fully Sampled"
   ]
  },
  {
   "cell_type": "code",
   "execution_count": 4,
   "id": "f1aa1f20",
   "metadata": {},
   "outputs": [
    {
     "name": "stderr",
     "output_type": "stream",
     "text": [
      "                                                                                           "
     ]
    },
    {
     "name": "stdout",
     "output_type": "stream",
     "text": [
      "Dice Score: 0.7398167252540588\n",
      "IoU Score: 0.6461239457130432\n"
     ]
    },
    {
     "name": "stderr",
     "output_type": "stream",
     "text": [
      "\r"
     ]
    }
   ],
   "source": [
    "dice, iou = get_metrics(dl, model)\n",
    "\n",
    "result['dataset'].append('brats')\n",
    "result['method'].append('full')\n",
    "result['acc_fac'].append(1)\n",
    "result['dice'].append(dice)\n",
    "result['iou'].append(iou)\n",
    "\n",
    "print('Dice Score:', dice)\n",
    "print('IoU Score:', iou)"
   ]
  },
  {
   "cell_type": "markdown",
   "id": "c4928cad",
   "metadata": {},
   "source": [
    "# Equispaced"
   ]
  },
  {
   "cell_type": "code",
   "execution_count": 5,
   "id": "62a7089e",
   "metadata": {},
   "outputs": [
    {
     "name": "stderr",
     "output_type": "stream",
     "text": [
      "                                                                                           \r"
     ]
    }
   ],
   "source": [
    "from src.mask_patterns import EquiSpacedMaskFunc\n",
    "\n",
    "num_runs = 10\n",
    "acc_facs = [8, 16, 32]\n",
    "\n",
    "for _ in range(num_runs):\n",
    "    for a in acc_facs:\n",
    "        mask = EquiSpacedMaskFunc([0.04], [a])((1, 256, 256))[0].cuda()\n",
    "        mask = mask.squeeze(2).expand(256, -1)\n",
    "        mask = mask.unsqueeze(0).unsqueeze(0)\n",
    "\n",
    "        dice, iou = get_metrics(dl, model, mask)\n",
    "\n",
    "        result['dataset'].append('brats')\n",
    "        result['method'].append('equi')\n",
    "        result['acc_fac'].append(a)\n",
    "        result['dice'].append(dice)\n",
    "        result['iou'].append(iou)"
   ]
  },
  {
   "cell_type": "markdown",
   "id": "72c0b615",
   "metadata": {},
   "source": [
    "## 2D Variable Density"
   ]
  },
  {
   "cell_type": "code",
   "execution_count": 6,
   "id": "775c1bc5",
   "metadata": {},
   "outputs": [
    {
     "name": "stderr",
     "output_type": "stream",
     "text": [
      "                                                                                           \r"
     ]
    }
   ],
   "source": [
    "from src.mask_patterns import get_2d_variable_density_mask\n",
    "\n",
    "num_runs = 10\n",
    "acc_facs = [8, 16, 32]\n",
    "\n",
    "for _ in range(num_runs):\n",
    "    for a in acc_facs:\n",
    "        mask = get_2d_variable_density_mask(256, a, 25).cuda()\n",
    "        mask = mask.unsqueeze(0).unsqueeze(0)\n",
    "\n",
    "        dice, iou = get_metrics(dl, model, mask)\n",
    "\n",
    "        result['dataset'].append('brats')\n",
    "        result['method'].append('var_dens')\n",
    "        result['acc_fac'].append(a)\n",
    "        result['dice'].append(dice)\n",
    "        result['iou'].append(iou)"
   ]
  },
  {
   "cell_type": "markdown",
   "id": "4f980738",
   "metadata": {},
   "source": [
    "## PROM"
   ]
  },
  {
   "cell_type": "code",
   "execution_count": 7,
   "id": "4b48771e",
   "metadata": {},
   "outputs": [
    {
     "name": "stderr",
     "output_type": "stream",
     "text": [
      "                                                                                           \r"
     ]
    }
   ],
   "source": [
    "num_runs = 10\n",
    "dims = ['1d', '2d']\n",
    "acc_facs = [8, 16, 32]\n",
    "\n",
    "for run_idx in range(1, num_runs + 1):\n",
    "    for d in dims:\n",
    "        for a in acc_facs:\n",
    "            path = f'logs/brats_' + d + f'_a{a}/brats_r{run_idx}.pt'\n",
    "            score = torch.load(path)['scores'][-1].cuda()\n",
    "\n",
    "            mask = get_top_k_mask(score.squeeze(), a)\n",
    "\n",
    "            dice, iou = get_metrics(dl, model, mask)\n",
    "\n",
    "            result['dataset'].append('brats')\n",
    "            result['method'].append('prom_' + d)\n",
    "            result['acc_fac'].append(a)\n",
    "            result['dice'].append(dice)\n",
    "            result['iou'].append(iou)"
   ]
  },
  {
   "cell_type": "markdown",
   "id": "79a34d60",
   "metadata": {},
   "source": [
    "# IGS Sampling"
   ]
  },
  {
   "cell_type": "code",
   "execution_count": 8,
   "id": "06c4722b",
   "metadata": {},
   "outputs": [
    {
     "name": "stderr",
     "output_type": "stream",
     "text": [
      "                                                                                           \r"
     ]
    }
   ],
   "source": [
    "from src.igs import IGS\n",
    "\n",
    "num_runs = 10\n",
    "acc_facs = [8, 16, 32]\n",
    "\n",
    "for run_idx in range(1, num_runs + 1):\n",
    "    masks = torch.load(f'logs/IGS/igs_brats_seg_{run_idx}.pt').cuda()\n",
    "    ns = [IGS.get_n(acc_fac=a, img_size=256) for a in acc_facs]\n",
    "\n",
    "    for n, a in zip(ns, acc_facs):\n",
    "        mask = masks[n - 2].unsqueeze(0)\n",
    "        mask = mask.expand(256, -1)\n",
    "        mask = mask.unsqueeze(0).unsqueeze(0)\n",
    "\n",
    "        dice, iou = get_metrics(dl, model, mask)\n",
    "\n",
    "        result['dataset'].append('brats')\n",
    "        result['method'].append('igs')\n",
    "        result['acc_fac'].append(a)\n",
    "        result['dice'].append(dice)\n",
    "        result['iou'].append(iou)\n",
    "    "
   ]
  },
  {
   "cell_type": "code",
   "execution_count": 9,
   "id": "85ce952e",
   "metadata": {},
   "outputs": [],
   "source": [
    "df = pd.DataFrame.from_dict(result)\n",
    "\n",
    "df.head()\n",
    "\n",
    "df.to_csv('logs/brats.csv')"
   ]
  },
  {
   "cell_type": "code",
   "execution_count": 10,
   "id": "c6385a56",
   "metadata": {},
   "outputs": [
    {
     "name": "stdout",
     "output_type": "stream",
     "text": [
      "GROUP: ('equi', 8)\n",
      "DICE MEAN 0.596 | SD 0.008\n",
      "IOU  MEAN 0.489 | SD 0.008\n",
      "------------------------------------\n",
      "GROUP: ('equi', 16)\n",
      "DICE MEAN 0.589 | SD 0.011\n",
      "IOU  MEAN 0.481 | SD 0.012\n",
      "------------------------------------\n",
      "GROUP: ('equi', 32)\n",
      "DICE MEAN 0.580 | SD 0.007\n",
      "IOU  MEAN 0.472 | SD 0.008\n",
      "------------------------------------\n",
      "GROUP: ('full', 1)\n",
      "DICE MEAN 0.740 | SD nan\n",
      "IOU  MEAN 0.646 | SD nan\n",
      "------------------------------------\n",
      "GROUP: ('igs', 8)\n",
      "DICE MEAN 0.716 | SD 0.000\n",
      "IOU  MEAN 0.619 | SD 0.000\n",
      "------------------------------------\n",
      "GROUP: ('igs', 16)\n",
      "DICE MEAN 0.651 | SD 0.000\n",
      "IOU  MEAN 0.546 | SD 0.000\n",
      "------------------------------------\n",
      "GROUP: ('igs', 32)\n",
      "DICE MEAN 0.537 | SD 0.000\n",
      "IOU  MEAN 0.428 | SD 0.000\n",
      "------------------------------------\n",
      "GROUP: ('prom_1d', 8)\n",
      "DICE MEAN 0.646 | SD 0.027\n",
      "IOU  MEAN 0.542 | SD 0.030\n",
      "------------------------------------\n",
      "GROUP: ('prom_1d', 16)\n",
      "DICE MEAN 0.537 | SD 0.019\n",
      "IOU  MEAN 0.426 | SD 0.019\n",
      "------------------------------------\n",
      "GROUP: ('prom_1d', 32)\n",
      "DICE MEAN 0.483 | SD 0.036\n",
      "IOU  MEAN 0.374 | SD 0.034\n",
      "------------------------------------\n",
      "GROUP: ('prom_2d', 8)\n",
      "DICE MEAN 0.739 | SD 0.000\n",
      "IOU  MEAN 0.646 | SD 0.000\n",
      "------------------------------------\n",
      "GROUP: ('prom_2d', 16)\n",
      "DICE MEAN 0.735 | SD 0.000\n",
      "IOU  MEAN 0.640 | SD 0.000\n",
      "------------------------------------\n",
      "GROUP: ('prom_2d', 32)\n",
      "DICE MEAN 0.706 | SD 0.008\n",
      "IOU  MEAN 0.608 | SD 0.008\n",
      "------------------------------------\n",
      "GROUP: ('var_dens', 8)\n",
      "DICE MEAN 0.733 | SD 0.009\n",
      "IOU  MEAN 0.638 | SD 0.011\n",
      "------------------------------------\n",
      "GROUP: ('var_dens', 16)\n",
      "DICE MEAN 0.597 | SD 0.078\n",
      "IOU  MEAN 0.494 | SD 0.080\n",
      "------------------------------------\n",
      "GROUP: ('var_dens', 32)\n",
      "DICE MEAN 0.315 | SD 0.073\n",
      "IOU  MEAN 0.226 | SD 0.065\n",
      "------------------------------------\n"
     ]
    }
   ],
   "source": [
    "for group_name, df_group in df.groupby(['method', 'acc_fac']):\n",
    "        \n",
    "    print('GROUP:', group_name)\n",
    "    print('DICE MEAN {:.3f} | SD {:.3f}'.format(df_group['dice'].mean(), df_group['dice'].std()))\n",
    "    print('IOU  MEAN {:.3f} | SD {:.3f}'.format(df_group['iou'].mean(), df_group['iou'].std()))\n",
    "    print('------------------------------------')"
   ]
  }
 ],
 "metadata": {
  "kernelspec": {
   "display_name": "Python 3 (ipykernel)",
   "language": "python",
   "name": "python3"
  },
  "language_info": {
   "codemirror_mode": {
    "name": "ipython",
    "version": 3
   },
   "file_extension": ".py",
   "mimetype": "text/x-python",
   "name": "python",
   "nbconvert_exporter": "python",
   "pygments_lexer": "ipython3",
   "version": "3.8.13"
  }
 },
 "nbformat": 4,
 "nbformat_minor": 5
}
